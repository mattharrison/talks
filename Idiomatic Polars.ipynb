{
 "cells": [
  {
   "cell_type": "markdown",
   "metadata": {
    "pycharm": {
     "name": "#%% md\n"
    }
   },
   "source": [
    "# Polars a Highly Optimized Dataframe Library\n"
   ]
  },
  {
   "attachments": {},
   "cell_type": "markdown",
   "metadata": {
    "lines_to_next_cell": 0,
    "pycharm": {
     "name": "#%% md\n"
    }
   },
   "source": [
    "## About Matt  Harrison @\\_\\_mharrison\\_\\_\n",
    "\n",
    "* Author of Effective Pandas, Machine Learning Pocket Reference, and Illustrated Guide to Python 3.\n",
    "* Advisor at Ponder (creators of Modin)\n",
    "* Corporate trainer at MetaSnake. Taught Pandas to 1000's of students."
   ]
  },
  {
   "cell_type": "code",
   "execution_count": null,
   "metadata": {},
   "outputs": [],
   "source": []
  },
  {
   "cell_type": "code",
   "execution_count": null,
   "metadata": {},
   "outputs": [],
   "source": []
  },
  {
   "cell_type": "code",
   "execution_count": null,
   "metadata": {},
   "outputs": [],
   "source": []
  },
  {
   "cell_type": "code",
   "execution_count": null,
   "metadata": {
    "lines_to_next_cell": 2
   },
   "outputs": [],
   "source": []
  },
  {
   "cell_type": "code",
   "execution_count": null,
   "metadata": {
    "lines_to_next_cell": 2,
    "pycharm": {
     "name": "#%%\n"
    }
   },
   "outputs": [],
   "source": []
  },
  {
   "cell_type": "code",
   "execution_count": null,
   "metadata": {
    "lines_to_next_cell": 2,
    "pycharm": {
     "name": "#%%\n"
    }
   },
   "outputs": [],
   "source": []
  },
  {
   "cell_type": "code",
   "execution_count": null,
   "metadata": {
    "lines_to_next_cell": 2,
    "pycharm": {
     "name": "#%%\n"
    }
   },
   "outputs": [],
   "source": []
  },
  {
   "cell_type": "code",
   "execution_count": null,
   "metadata": {
    "lines_to_next_cell": 2,
    "pycharm": {
     "name": "#%%\n"
    }
   },
   "outputs": [],
   "source": []
  },
  {
   "cell_type": "markdown",
   "metadata": {
    "lines_to_next_cell": 0,
    "pycharm": {
     "name": "#%%\n"
    }
   },
   "source": [
    "## Relevant Background\n",
    "\n",
    "* 1999 NLP\n",
    "* 2006 Created Python OLAP Engine\n",
    "* 2009 Heard about Pandas\n",
    "* Used Pandas for failure modeling, analytics, and ml\n",
    "* 2016 Learning the Pandas Library\n",
    "* 2019 Spark\n",
    "* 2020 Pandas Cookbook\n",
    "* 2021 Effective Pandas\n",
    "* 2022 CuDf, Modin, Polars"
   ]
  },
  {
   "cell_type": "code",
   "execution_count": null,
   "metadata": {},
   "outputs": [],
   "source": []
  },
  {
   "cell_type": "code",
   "execution_count": null,
   "metadata": {},
   "outputs": [],
   "source": []
  },
  {
   "cell_type": "code",
   "execution_count": null,
   "metadata": {},
   "outputs": [],
   "source": []
  },
  {
   "cell_type": "code",
   "execution_count": null,
   "metadata": {},
   "outputs": [],
   "source": []
  },
  {
   "cell_type": "code",
   "execution_count": null,
   "metadata": {},
   "outputs": [],
   "source": []
  },
  {
   "cell_type": "code",
   "execution_count": null,
   "metadata": {},
   "outputs": [],
   "source": []
  },
  {
   "cell_type": "code",
   "execution_count": null,
   "metadata": {},
   "outputs": [],
   "source": []
  },
  {
   "cell_type": "code",
   "execution_count": null,
   "metadata": {},
   "outputs": [],
   "source": []
  },
  {
   "cell_type": "code",
   "execution_count": null,
   "metadata": {},
   "outputs": [],
   "source": []
  },
  {
   "cell_type": "code",
   "execution_count": null,
   "metadata": {},
   "outputs": [],
   "source": []
  },
  {
   "cell_type": "code",
   "execution_count": null,
   "metadata": {
    "lines_to_next_cell": 2
   },
   "outputs": [],
   "source": []
  },
  {
   "cell_type": "code",
   "execution_count": null,
   "metadata": {
    "lines_to_next_cell": 2,
    "pycharm": {
     "name": "#%%\n"
    }
   },
   "outputs": [],
   "source": []
  },
  {
   "cell_type": "code",
   "execution_count": null,
   "metadata": {
    "lines_to_next_cell": 2,
    "pycharm": {
     "name": "#%%\n"
    }
   },
   "outputs": [],
   "source": []
  },
  {
   "cell_type": "code",
   "execution_count": null,
   "metadata": {
    "lines_to_next_cell": 2,
    "pycharm": {
     "name": "#%%\n"
    }
   },
   "outputs": [],
   "source": []
  },
  {
   "cell_type": "markdown",
   "metadata": {
    "pycharm": {
     "name": "#%% md\n"
    }
   },
   "source": [
    "## Outline of Opinions\n",
    "\n",
    "* Load Data\n",
    "* Types\n",
    "* Chaining\n",
    "* Apply\n",
    "* Aggregation"
   ]
  },
  {
   "attachments": {},
   "cell_type": "markdown",
   "metadata": {},
   "source": [
    "## Polars Overview\n",
    "\n",
    "* Polars is a Rust library with Python bindings\n",
    "* Polars has expressions and contexts\n",
    "  - Contexts - `.select`, `.with_columns`, `.filter`\n",
    "  - Expressions - done w/ `pl.col(\"col_name\")` or `pl.lit(1)`\n",
    "* Lazy evaluation\n",
    "* Query optimization\n",
    "* Multi-threaded\n"
   ]
  },
  {
   "cell_type": "markdown",
   "metadata": {
    "pycharm": {
     "name": "#%% md\n"
    }
   },
   "source": [
    "## Data"
   ]
  },
  {
   "cell_type": "code",
   "execution_count": null,
   "metadata": {},
   "outputs": [],
   "source": [
    "!pip install -U polars"
   ]
  },
  {
   "cell_type": "code",
   "execution_count": null,
   "metadata": {
    "lines_to_next_cell": 2,
    "pycharm": {
     "name": "#%%\n"
    }
   },
   "outputs": [],
   "source": [
    "import numpy as np\n",
    "import polars as pl\n",
    "import pandas as pd"
   ]
  },
  {
   "cell_type": "code",
   "execution_count": null,
   "metadata": {
    "pycharm": {
     "name": "#%%\n"
    }
   },
   "outputs": [],
   "source": [
    "pl.__version__"
   ]
  },
  {
   "cell_type": "code",
   "execution_count": null,
   "metadata": {},
   "outputs": [],
   "source": [
    "import urllib.request\n",
    "import zipfile\n",
    "import os\n",
    "\n",
    "def download_and_unzip(url, extract_to='.'):\n",
    "    zip_path, _ = urllib.request.urlretrieve(url)\n",
    "    with zipfile.ZipFile(zip_path) as zip_ref:\n",
    "        zip_ref.extractall(extract_to)\n",
    "    os.remove(zip_path)\n",
    "\n",
    "url = 'https://github.com/mattharrison/datasets/raw/master/data/vehicles.csv.zip'\n",
    "download_and_unzip(url)"
   ]
  },
  {
   "cell_type": "code",
   "execution_count": null,
   "metadata": {
    "pycharm": {
     "name": "#%%\n"
    },
    "scrolled": true
   },
   "outputs": [],
   "source": [
    "autos = pl.read_csv('vehicles.csv', null_values=['NA'])"
   ]
  },
  {
   "cell_type": "code",
   "execution_count": null,
   "metadata": {
    "pycharm": {
     "name": "#%%\n"
    },
    "scrolled": true
   },
   "outputs": [],
   "source": [
    "autos"
   ]
  },
  {
   "cell_type": "code",
   "execution_count": null,
   "metadata": {
    "pycharm": {
     "name": "#%%\n"
    },
    "scrolled": true
   },
   "outputs": [],
   "source": [
    "autos.columns"
   ]
  },
  {
   "cell_type": "code",
   "execution_count": null,
   "metadata": {},
   "outputs": [],
   "source": [
    "# 33.5 Megs\n",
    "autos.estimated_size()"
   ]
  },
  {
   "cell_type": "code",
   "execution_count": null,
   "metadata": {
    "lines_to_next_cell": 2,
    "pycharm": {
     "name": "#%%\n"
    }
   },
   "outputs": [],
   "source": []
  },
  {
   "cell_type": "code",
   "execution_count": null,
   "metadata": {
    "lines_to_next_cell": 2,
    "pycharm": {
     "name": "#%%\n"
    }
   },
   "outputs": [],
   "source": []
  },
  {
   "cell_type": "code",
   "execution_count": null,
   "metadata": {
    "lines_to_next_cell": 2,
    "pycharm": {
     "name": "#%%\n"
    }
   },
   "outputs": [],
   "source": []
  },
  {
   "cell_type": "markdown",
   "metadata": {
    "pycharm": {
     "name": "#%% md\n"
    }
   },
   "source": [
    "## Types\n",
    "Getting the right types will enable analysis and correctness."
   ]
  },
  {
   "cell_type": "code",
   "execution_count": null,
   "metadata": {
    "pycharm": {
     "name": "#%%\n"
    }
   },
   "outputs": [],
   "source": [
    "cols = ['city08', 'comb08', 'highway08', 'cylinders', 'displ', 'drive', 'eng_dscr', \n",
    "        'fuelCost08', 'make', 'model', 'trany', 'range', 'createdOn', 'year']"
   ]
  },
  {
   "cell_type": "code",
   "execution_count": null,
   "metadata": {
    "pycharm": {
     "name": "#%%\n"
    }
   },
   "outputs": [],
   "source": [
    "autos[cols].dtypes"
   ]
  },
  {
   "cell_type": "code",
   "execution_count": null,
   "metadata": {
    "pycharm": {
     "name": "#%%\n"
    }
   },
   "outputs": [],
   "source": [
    "# 8 Megs\n",
    "autos[cols].estimated_size()"
   ]
  },
  {
   "cell_type": "code",
   "execution_count": null,
   "metadata": {
    "lines_to_next_cell": 2,
    "pycharm": {
     "name": "#%%\n"
    }
   },
   "outputs": [],
   "source": []
  },
  {
   "cell_type": "markdown",
   "metadata": {
    "pycharm": {
     "name": "#%% md\n"
    }
   },
   "source": [
    "### Ints"
   ]
  },
  {
   "cell_type": "code",
   "execution_count": null,
   "metadata": {
    "pycharm": {
     "name": "#%%\n"
    },
    "scrolled": true
   },
   "outputs": [],
   "source": [
    "# select is a context\n",
    "# pl.col is an expression\n",
    "autos[cols].select(pl.col(pl.Int64))"
   ]
  },
  {
   "cell_type": "code",
   "execution_count": null,
   "metadata": {
    "pycharm": {
     "name": "#%%\n"
    },
    "scrolled": true
   },
   "outputs": [],
   "source": [
    "autos[cols].select(pl.col(pl.Int64)).describe()"
   ]
  },
  {
   "cell_type": "code",
   "execution_count": null,
   "metadata": {
    "pycharm": {
     "name": "#%%\n"
    },
    "scrolled": true
   },
   "outputs": [],
   "source": [
    "# chaining\n",
    "(autos\n",
    " .select(cols)\n",
    " .select(pl.col(pl.Int64))\n",
    " .describe()\n",
    ")"
   ]
  },
  {
   "cell_type": "code",
   "execution_count": null,
   "metadata": {
    "pycharm": {
     "name": "#%%\n"
    },
    "scrolled": true
   },
   "outputs": [],
   "source": [
    "# can comb08 be an int8?\n",
    "np.iinfo(np.int8)"
   ]
  },
  {
   "cell_type": "code",
   "execution_count": null,
   "metadata": {
    "pycharm": {
     "name": "#%%\n"
    },
    "scrolled": true
   },
   "outputs": [],
   "source": [
    "# no but maybe a uint8\n",
    "np.iinfo(np.uint8)"
   ]
  },
  {
   "cell_type": "code",
   "execution_count": null,
   "metadata": {
    "pycharm": {
     "name": "#%%\n"
    },
    "scrolled": true
   },
   "outputs": [],
   "source": [
    "# chaining\n",
    "# polars prevents illegal casts\n",
    "(autos\n",
    " .select(cols)\n",
    " .with_columns(pl.col('comb08').cast(pl.Int8))\n",
    " .describe()\n",
    ")"
   ]
  },
  {
   "cell_type": "code",
   "execution_count": null,
   "metadata": {
    "pycharm": {
     "name": "#%%\n"
    },
    "scrolled": true
   },
   "outputs": [],
   "source": [
    "# chaining\n",
    "(autos\n",
    " .select(cols)\n",
    " .with_columns(pl.col('comb08').cast(pl.UInt8))\n",
    " .describe()               \n",
    ")"
   ]
  },
  {
   "cell_type": "code",
   "execution_count": null,
   "metadata": {},
   "outputs": [],
   "source": [
    "np.iinfo(np.int16)"
   ]
  },
  {
   "cell_type": "code",
   "execution_count": null,
   "metadata": {
    "lines_to_next_cell": 0,
    "pycharm": {
     "name": "#%%\n"
    },
    "scrolled": true
   },
   "outputs": [],
   "source": [
    "# chaining\n",
    "(autos\n",
    " .select(cols)\n",
    " .with_columns(pl.col(['city08', 'comb08', 'highway08', 'cylinders', 'displ',]).cast(pl.UInt8))\n",
    " .with_columns(pl.col(['range', 'fuelCost08', 'year',]).cast(pl.UInt16))\n",
    " .estimated_size()\n",
    ")"
   ]
  },
  {
   "cell_type": "code",
   "execution_count": null,
   "metadata": {},
   "outputs": [],
   "source": [
    "(autos\n",
    " .select(cols)\n",
    " .estimated_size()\n",
    ")"
   ]
  },
  {
   "cell_type": "code",
   "execution_count": null,
   "metadata": {},
   "outputs": [],
   "source": []
  },
  {
   "cell_type": "code",
   "execution_count": null,
   "metadata": {},
   "outputs": [],
   "source": []
  },
  {
   "cell_type": "code",
   "execution_count": null,
   "metadata": {
    "lines_to_next_cell": 2,
    "pycharm": {
     "name": "#%%\n"
    }
   },
   "outputs": [],
   "source": []
  },
  {
   "cell_type": "code",
   "execution_count": null,
   "metadata": {
    "lines_to_next_cell": 2,
    "pycharm": {
     "name": "#%%\n"
    }
   },
   "outputs": [],
   "source": []
  },
  {
   "cell_type": "markdown",
   "metadata": {
    "pycharm": {
     "name": "#%% md\n"
    }
   },
   "source": [
    "### Strings"
   ]
  },
  {
   "cell_type": "code",
   "execution_count": null,
   "metadata": {
    "pycharm": {
     "name": "#%%\n"
    },
    "scrolled": true
   },
   "outputs": [],
   "source": [
    "autos.select(cols).select(pl.col(pl.Utf8))"
   ]
  },
  {
   "cell_type": "code",
   "execution_count": null,
   "metadata": {
    "pycharm": {
     "name": "#%%\n"
    },
    "scrolled": true
   },
   "outputs": [],
   "source": [
    "# chaining\n",
    "(autos\n",
    " .select(cols)\n",
    " .with_columns(pl.col(['city08', 'comb08', 'highway08', 'cylinders', 'displ',]).cast(pl.UInt8))\n",
    " .with_columns(pl.col(['range', 'fuelCost08', 'year',]).cast(pl.UInt16))\n",
    " .estimated_size()\n",
    ")"
   ]
  },
  {
   "cell_type": "code",
   "execution_count": null,
   "metadata": {
    "lines_to_next_cell": 0,
    "pycharm": {
     "name": "#%%\n"
    },
    "scrolled": true
   },
   "outputs": [],
   "source": [
    "# chaining\n",
    "(autos\n",
    " .select(cols)\n",
    " .with_columns(pl.col(['city08', 'comb08', 'highway08', 'cylinders', 'displ',]).cast(pl.UInt8))\n",
    " .with_columns(pl.col(['range', 'fuelCost08', 'year',]).cast(pl.UInt16))\n",
    " .with_columns(pl.col(['drive', 'make', 'model',]).cast(pl.Categorical)) \n",
    " .estimated_size()\n",
    ")"
   ]
  },
  {
   "cell_type": "code",
   "execution_count": null,
   "metadata": {
    "lines_to_next_cell": 2
   },
   "outputs": [],
   "source": []
  },
  {
   "cell_type": "markdown",
   "metadata": {},
   "source": [
    "## Extract FFS, Speed, & Manual"
   ]
  },
  {
   "cell_type": "code",
   "execution_count": null,
   "metadata": {
    "pycharm": {
     "name": "#%%\n"
    },
    "scrolled": true
   },
   "outputs": [],
   "source": [
    "# chaining\n",
    "(autos\n",
    " .select(cols)\n",
    " .with_columns(pl.col(['city08', 'comb08', 'highway08', 'cylinders', 'displ',]).cast(pl.UInt8))\n",
    " .with_columns(pl.col(['range', 'fuelCost08', 'year',]).cast(pl.UInt16))\n",
    " .with_columns(pl.col(['drive', 'make', 'model',]).cast(pl.Categorical)) \n",
    " .select(pl.col(pl.Utf8))\n",
    ")"
   ]
  },
  {
   "cell_type": "code",
   "execution_count": null,
   "metadata": {},
   "outputs": [],
   "source": [
    "col = pl.col('test')"
   ]
  },
  {
   "cell_type": "code",
   "execution_count": null,
   "metadata": {},
   "outputs": [],
   "source": [
    "col.str.extract?"
   ]
  },
  {
   "cell_type": "code",
   "execution_count": null,
   "metadata": {
    "pycharm": {
     "name": "#%%\n"
    },
    "scrolled": true
   },
   "outputs": [],
   "source": [
    "(autos\n",
    " .select(cols)\n",
    " .with_columns([pl.col(['city08', 'comb08', 'highway08', 'cylinders', 'displ',]).cast(pl.UInt8),\n",
    "     pl.col(['range', 'fuelCost08', 'year',]).cast(pl.UInt16),\n",
    "     pl.col(['drive', 'make', 'model',]).cast(pl.Categorical),\n",
    "     pl.col('eng_dscr').str.contains('FFS').alias('FFS'),\n",
    "     pl.col('trany').str.extract(r'(\\d+)').cast(pl.UInt8).alias('Speeds'),\n",
    "     pl.col('trany').str.contains('Manual').alias('Manual'),    \n",
    " ])\n",
    ")"
   ]
  },
  {
   "cell_type": "code",
   "execution_count": null,
   "metadata": {
    "pycharm": {
     "name": "#%%\n"
    },
    "scrolled": true
   },
   "outputs": [],
   "source": [
    "print(autos\n",
    " .select(cols)\n",
    " .with_columns([pl.col(['city08', 'comb08', 'highway08', 'cylinders', 'displ',]).cast(pl.UInt8),\n",
    "     pl.col(['range', 'fuelCost08', 'year',]).cast(pl.UInt16),\n",
    "     pl.col(['drive', 'make', 'model',]).cast(pl.Categorical),\n",
    "     pl.col('eng_dscr').str.contains('FFS').alias('FFS'),\n",
    "     pl.col('trany').str.extract(r'(\\d+)').cast(pl.UInt8).alias('Speeds'),\n",
    "     pl.col('trany').str.contains('Manual').alias('Manual'),    \n",
    "     ])\n",
    ".columns\n",
    ")"
   ]
  },
  {
   "cell_type": "code",
   "execution_count": null,
   "metadata": {
    "pycharm": {
     "name": "#%%\n"
    },
    "scrolled": true
   },
   "outputs": [],
   "source": [
    "# remove trany and engr_desc\n",
    "(autos\n",
    " .with_columns([pl.col(['city08', 'comb08', 'highway08', 'cylinders', 'displ',]).cast(pl.UInt8),\n",
    "     pl.col(['range', 'fuelCost08', 'year',]).cast(pl.UInt16),\n",
    "     pl.col(['drive', 'make', 'model',]).cast(pl.Categorical),\n",
    "     pl.col('eng_dscr').str.contains('FFS').alias('FFS'),\n",
    "     pl.col('trany').str.extract(r'(\\d+)').cast(pl.UInt8).alias('Speeds'),\n",
    "     pl.col('trany').str.contains('Manual').alias('Manual'),    \n",
    "  ])\n",
    " .select(pl.col(['city08', 'comb08', 'highway08', 'cylinders', 'displ', 'drive', 'fuelCost08',\n",
    "  'make', 'model', 'range', 'createdOn', 'year', 'FFS', 'Speeds', 'Manual']))\n",
    " .estimated_size()\n",
    ")"
   ]
  },
  {
   "cell_type": "code",
   "execution_count": null,
   "metadata": {
    "pycharm": {
     "name": "#%%\n"
    },
    "scrolled": true
   },
   "outputs": [],
   "source": [
    "# where are the values missing for drive?\n",
    "(autos\n",
    " .with_columns([pl.col(['city08', 'comb08', 'highway08', 'cylinders', 'displ',]).cast(pl.UInt8),\n",
    "     pl.col(['range', 'fuelCost08', 'year',]).cast(pl.UInt16),\n",
    "     pl.col(['drive', 'make', 'model',]).cast(pl.Categorical),\n",
    "     pl.col('eng_dscr').str.contains('FFS').alias('FFS'),\n",
    "     pl.col('trany').str.extract(r'(\\d+)').cast(pl.UInt8).alias('Speeds'),\n",
    "     pl.col('trany').str.contains('Manual').alias('Manual'),    \n",
    "  ])\n",
    " .select(pl.col(['city08', 'comb08', 'highway08', 'cylinders', 'displ', 'drive', 'fuelCost08',\n",
    "  'make', 'model', 'range', 'createdOn', 'year', 'FFS', 'Speeds', 'Manual']))\n",
    " .filter(pl.col('drive').is_null())\n",
    ")"
   ]
  },
  {
   "cell_type": "code",
   "execution_count": null,
   "metadata": {
    "pycharm": {
     "name": "#%%\n"
    },
    "scrolled": true
   },
   "outputs": [],
   "source": [
    "# fill in missing values with other\n",
    "(autos\n",
    " .with_columns([pl.col(['city08', 'comb08', 'highway08', 'cylinders', 'displ',]).cast(pl.UInt8),\n",
    "     pl.col(['range', 'fuelCost08', 'year',]).cast(pl.UInt16),\n",
    "     pl.col(['make', 'model',]).cast(pl.Categorical),\n",
    "     pl.col('drive').fill_null('other').cast(pl.Categorical),\n",
    "     pl.col('eng_dscr').str.contains('FFS').alias('FFS'),\n",
    "     pl.col('trany').str.extract(r'(\\d+)').cast(pl.UInt8).alias('Speeds'),\n",
    "     pl.col('trany').str.contains('Manual').alias('Manual'),    \n",
    "  ])\n",
    " .select(pl.col(['city08', 'comb08', 'highway08', 'cylinders', 'displ', 'drive', 'fuelCost08',\n",
    "  'make', 'model', 'range', 'createdOn', 'year', 'FFS', 'Speeds', 'Manual']))\n",
    ")"
   ]
  },
  {
   "cell_type": "code",
   "execution_count": null,
   "metadata": {
    "pycharm": {
     "name": "#%%\n"
    },
    "scrolled": true
   },
   "outputs": [],
   "source": [
    "# missing cylinders\n",
    "(autos\n",
    " .with_columns([pl.col(['city08', 'comb08', 'highway08', 'cylinders', 'displ',]).cast(pl.UInt8),\n",
    "     pl.col(['range', 'fuelCost08', 'year',]).cast(pl.UInt16),\n",
    "     pl.col(['make', 'model',]).cast(pl.Categorical),\n",
    "     pl.col('drive').fill_null('other').cast(pl.Categorical),\n",
    "     pl.col('eng_dscr').str.contains('FFS').alias('ffs'),\n",
    "     pl.col('trany').str.extract(r'(\\d+)').cast(pl.UInt8).alias('speeds'),\n",
    "     pl.col('trany').str.contains('Manual').alias('manual'),    \n",
    "  ])\n",
    " .select(pl.col(['city08', 'comb08', 'highway08', 'cylinders', 'displ', 'drive', 'fuelCost08',\n",
    "  'make', 'model', 'range', 'createdOn', 'year', 'ffs', 'speeds', 'manual']))\n",
    " .filter(pl.col('cylinders').is_null()) \n",
    ")"
   ]
  },
  {
   "cell_type": "code",
   "execution_count": null,
   "metadata": {
    "lines_to_next_cell": 0,
    "pycharm": {
     "name": "#%%\n"
    },
    "scrolled": true
   },
   "outputs": [],
   "source": [
    "# missing cylinders\n",
    "(autos\n",
    " .with_columns([pl.col(['city08', 'comb08', 'highway08', 'displ',]).cast(pl.UInt8),\n",
    "     pl.col('cylinders').fill_null(0).cast(pl.UInt8),\n",
    "     pl.col(['range', 'fuelCost08', 'year',]).cast(pl.UInt16),\n",
    "     pl.col(['make', 'model',]).cast(pl.Categorical),\n",
    "     pl.col('drive').fill_null('other').cast(pl.Categorical),\n",
    "     pl.col('eng_dscr').str.contains('FFS').alias('ffs'),\n",
    "     pl.col('trany').str.extract(r'(\\d+)').cast(pl.UInt8).alias('speeds'),\n",
    "     pl.col('trany').str.contains('Manual').alias('manual'),    \n",
    "  ])\n",
    " .select(pl.col(['city08', 'comb08', 'highway08', 'cylinders', 'displ', 'drive', 'fuelCost08',\n",
    "  'make', 'model', 'range', 'createdOn', 'year', 'ffs', 'speeds', 'manual']))\n",
    ")"
   ]
  },
  {
   "cell_type": "code",
   "execution_count": null,
   "metadata": {},
   "outputs": [],
   "source": []
  },
  {
   "cell_type": "code",
   "execution_count": null,
   "metadata": {
    "lines_to_next_cell": 2
   },
   "outputs": [],
   "source": []
  },
  {
   "cell_type": "code",
   "execution_count": null,
   "metadata": {
    "lines_to_next_cell": 2,
    "pycharm": {
     "name": "#%%\n"
    }
   },
   "outputs": [],
   "source": []
  },
  {
   "cell_type": "code",
   "execution_count": null,
   "metadata": {
    "lines_to_next_cell": 2,
    "pycharm": {
     "name": "#%%\n"
    }
   },
   "outputs": [],
   "source": []
  },
  {
   "cell_type": "markdown",
   "metadata": {
    "pycharm": {
     "name": "#%% md\n"
    }
   },
   "source": [
    "### Dates"
   ]
  },
  {
   "cell_type": "code",
   "execution_count": null,
   "metadata": {},
   "outputs": [],
   "source": [
    "col.str.replace?"
   ]
  },
  {
   "cell_type": "code",
   "execution_count": null,
   "metadata": {
    "pycharm": {
     "name": "#%%\n"
    },
    "scrolled": true
   },
   "outputs": [],
   "source": [
    "(autos\n",
    " .with_columns([pl.col(['city08', 'comb08', 'highway08', 'displ',]).cast(pl.UInt8),\n",
    "     pl.col('cylinders').fill_null(0).cast(pl.UInt8),\n",
    "     pl.col(['range', 'fuelCost08', 'year',]).cast(pl.UInt16),\n",
    "     pl.col(['make', 'model',]).cast(pl.Categorical),\n",
    "     pl.col('drive').fill_null('other').cast(pl.Categorical),\n",
    "     pl.col('eng_dscr').str.contains('FFS').alias('ffs'),\n",
    "     pl.col('trany').str.extract(r'(\\d+)').cast(pl.UInt8).alias('speeds'),\n",
    "     pl.col('trany').str.contains('Manual').alias('manual'),    \n",
    "    pl.col('createdOn').str.replace(' EDT', ' -0400')\n",
    "               .str.replace(' EST', ' -0500')\n",
    "               .str.strptime(pl.Datetime, '%a %b %d %H:%M:%S %z %Y')\n",
    "               ])\n",
    " .select(pl.col(['city08', 'comb08', 'highway08', 'cylinders', 'displ', 'drive', 'fuelCost08',\n",
    "  'make', 'model', 'range', 'createdOn', 'year', 'ffs', 'speeds', 'manual']))\n",
    ")"
   ]
  },
  {
   "cell_type": "code",
   "execution_count": null,
   "metadata": {
    "pycharm": {
     "name": "#%%\n"
    },
    "scrolled": true
   },
   "outputs": [],
   "source": [
    "# NYC TZ\n",
    "(autos\n",
    " .with_columns(pl.col(['city08', 'comb08', 'highway08', 'displ',]).cast(pl.UInt8),\n",
    "     pl.col('cylinders').fill_null(0).cast(pl.UInt8),\n",
    "     pl.col(['range', 'fuelCost08', 'year',]).cast(pl.UInt16),\n",
    "     pl.col(['make', 'model',]).cast(pl.Categorical),\n",
    "     pl.col('drive').fill_null('other').cast(pl.Categorical),\n",
    "     pl.col('eng_dscr').str.contains('FFS').alias('ffs'),\n",
    "     pl.col('trany').str.extract(r'(\\d+)').cast(pl.UInt8).alias('speeds'),\n",
    "     pl.col('trany').str.contains('Manual').alias('manual'),    \n",
    "    pl.col('createdOn').str.replace(' EDT', ' -0400')\n",
    "               .str.replace(' EST', ' -0500')\n",
    "               .str.strptime(pl.Datetime, '%a %b %d %H:%M:%S %z %Y')\n",
    "               .dt.convert_time_zone('America/New_York')\n",
    "               )\n",
    " .select(pl.col(['city08', 'comb08', 'highway08', 'cylinders', 'displ', 'drive', 'fuelCost08',\n",
    "  'make', 'model', 'range', 'createdOn', 'year', 'ffs', 'speeds', 'manual']))\n",
    ")"
   ]
  },
  {
   "cell_type": "code",
   "execution_count": null,
   "metadata": {
    "lines_to_next_cell": 0,
    "pycharm": {
     "name": "#%%\n"
    },
    "scrolled": true
   },
   "outputs": [],
   "source": [
    "# a glorious function\n",
    "def tweak_autos(autos):\n",
    "    return (autos\n",
    "     .with_columns(pl.col(['city08', 'comb08', 'highway08', 'displ',]).cast(pl.UInt8),\n",
    "         pl.col('cylinders').fill_null(0).cast(pl.UInt8),\n",
    "         pl.col(['range', 'fuelCost08', 'year',]).cast(pl.UInt16),\n",
    "         pl.col(['make', 'model',]).cast(pl.Categorical),\n",
    "         pl.col('drive').fill_null('other').cast(pl.Categorical),\n",
    "         pl.col('eng_dscr').str.contains('FFS').alias('ffs'),\n",
    "         pl.col('trany').str.extract(r'(\\d+)').cast(pl.UInt8).alias('speeds'),\n",
    "         pl.col('trany').str.contains('Manual').alias('manual'),    \n",
    "        pl.col('createdOn').str.replace(' EDT', ' -0400')\n",
    "                   .str.replace(' EST', ' -0500')\n",
    "                   .str.strptime(pl.Datetime, '%a %b %d %H:%M:%S %z %Y')\n",
    "                   .dt.convert_time_zone('America/New_York')\n",
    "                   )\n",
    "     .select(pl.col(['city08', 'comb08', 'highway08', 'cylinders', 'displ', 'drive', 'fuelCost08',\n",
    "      'make', 'model', 'range', 'createdOn', 'year', 'ffs', 'speeds', 'manual']))\n",
    "    )\n",
    "\n",
    "tweak_autos(autos)"
   ]
  },
  {
   "cell_type": "code",
   "execution_count": null,
   "metadata": {
    "lines_to_next_cell": 2,
    "pycharm": {
     "name": "#%%\n"
    }
   },
   "outputs": [],
   "source": []
  },
  {
   "cell_type": "code",
   "execution_count": null,
   "metadata": {
    "lines_to_next_cell": 2,
    "pycharm": {
     "name": "#%%\n"
    }
   },
   "outputs": [],
   "source": []
  },
  {
   "cell_type": "code",
   "execution_count": null,
   "metadata": {
    "lines_to_next_cell": 0,
    "pycharm": {
     "name": "#%%\n"
    }
   },
   "outputs": [],
   "source": []
  },
  {
   "cell_type": "code",
   "execution_count": null,
   "metadata": {},
   "outputs": [],
   "source": []
  },
  {
   "cell_type": "code",
   "execution_count": null,
   "metadata": {},
   "outputs": [],
   "source": []
  },
  {
   "cell_type": "markdown",
   "metadata": {
    "pycharm": {
     "name": "#%% md\n"
    }
   },
   "source": [
    "## Chain\n",
    "\n",
    "Chaining is also called \"flow\" programming. Rather than making intermediate variables, just leverage the fact that most operations return a new object and work on that.\n",
    "\n",
    "The chain should read like a recipe of ordered steps.\n",
    "\n",
    "(BTW, this is actually what we did above.)"
   ]
  },
  {
   "cell_type": "code",
   "execution_count": null,
   "metadata": {
    "lines_to_next_cell": 0,
    "pycharm": {
     "name": "#%%\n"
    },
    "scrolled": true
   },
   "outputs": [],
   "source": [
    "# a glorious function\n",
    "def tweak_autos_lazy(path):\n",
    "    return (pl.scan_csv(path, null_values=['NA'])\n",
    "     .lazy()\n",
    "     .with_columns(pl.col(['city08', 'comb08', 'highway08', 'displ',]).cast(pl.UInt8),\n",
    "         pl.col('cylinders').fill_null(0).cast(pl.UInt8),\n",
    "         pl.col(['range', 'fuelCost08', 'year',]).cast(pl.UInt16),\n",
    "         pl.col(['make', 'model',]).cast(pl.Categorical),\n",
    "         pl.col('drive').fill_null('other').cast(pl.Categorical),\n",
    "         pl.col('eng_dscr').str.contains('FFS').alias('ffs'),\n",
    "         pl.col('trany').str.extract(r'(\\d+)').cast(pl.UInt8).alias('speeds'),\n",
    "         pl.col('trany').str.contains('Manual').alias('manual'),    \n",
    "        pl.col('createdOn').str.replace(' EDT', ' -0400')\n",
    "                   .str.replace(' EST', ' -0500')\n",
    "                   .str.strptime(pl.Datetime, '%a %b %d %H:%M:%S %z %Y',)\n",
    "                   .dt.convert_time_zone('America/New_York')\n",
    "                   )\n",
    "     .select(pl.col(['city08', 'comb08', 'highway08', 'cylinders', 'displ', 'drive', 'fuelCost08',\n",
    "          'make', 'model', 'range', 'createdOn', 'year', 'ffs', 'speeds', 'manual']))\n",
    "     .collect()\n",
    "    )\n",
    "\n",
    "tweak_autos_lazy('vehicles.csv')"
   ]
  },
  {
   "cell_type": "code",
   "execution_count": null,
   "metadata": {
    "lines_to_next_cell": 0,
    "pycharm": {
     "name": "#%%\n"
    },
    "scrolled": true
   },
   "outputs": [],
   "source": [
    "# easy to debug\n",
    "\n",
    "def get_var(df, var_name):\n",
    "    globals()[var_name] = df\n",
    "    return df\n",
    "\n",
    "\n",
    "def tweak_autos_debug(autos):\n",
    "    return (autos\n",
    "     .pipe(lambda df: print(df.shape) or df)\n",
    "     .with_columns(pl.col(['city08', 'comb08', 'highway08', 'displ',]).cast(pl.UInt8),\n",
    "         pl.col('cylinders').fill_null(0).cast(pl.UInt8),\n",
    "         pl.col(['range', 'fuelCost08', 'year',]).cast(pl.UInt16),\n",
    "         pl.col(['make', 'model',]).cast(pl.Categorical),\n",
    "         pl.col('drive').fill_null('other').cast(pl.Categorical),\n",
    "         pl.col('eng_dscr').str.contains('FFS').alias('ffs'),\n",
    "         pl.col('trany').str.extract(r'(\\d+)').cast(pl.UInt8).alias('speeds'),\n",
    "         pl.col('trany').str.contains('Manual').alias('manual'),    \n",
    "         pl.col('createdOn').str.replace(' EDT', ' -0400')\n",
    "                   .str.replace(' EST', ' -0500')\n",
    "                   .str.strptime(pl.Datetime, '%a %b %d %H:%M:%S %z %Y')\n",
    "                   .dt.convert_time_zone('America/New_York')\n",
    "                   )\n",
    "     .pipe(lambda df: print(df.shape) or df)    \n",
    "     .pipe(get_var, 'df2')\n",
    "     .select(pl.col(['city08', 'comb08', 'highway08', 'cylinders', 'displ', 'drive', 'fuelCost08',\n",
    "          'make', 'model', 'range', 'createdOn', 'year', 'ffs', 'speeds', 'manual']))\n",
    "     .pipe(lambda df: print(df.shape) or df)            \n",
    "           )\n",
    "\n",
    "tweak_autos_debug(autos)"
   ]
  },
  {
   "cell_type": "code",
   "execution_count": null,
   "metadata": {
    "scrolled": true
   },
   "outputs": [],
   "source": [
    "df2"
   ]
  },
  {
   "cell_type": "code",
   "execution_count": null,
   "metadata": {
    "lines_to_next_cell": 2,
    "pycharm": {
     "name": "#%%\n"
    }
   },
   "outputs": [],
   "source": []
  },
  {
   "cell_type": "code",
   "execution_count": null,
   "metadata": {
    "lines_to_next_cell": 2,
    "pycharm": {
     "name": "#%%\n"
    }
   },
   "outputs": [],
   "source": []
  },
  {
   "cell_type": "code",
   "execution_count": null,
   "metadata": {
    "lines_to_next_cell": 2,
    "pycharm": {
     "name": "#%%\n"
    }
   },
   "outputs": [],
   "source": []
  },
  {
   "cell_type": "code",
   "execution_count": null,
   "metadata": {
    "lines_to_next_cell": 2,
    "pycharm": {
     "name": "#%%\n"
    }
   },
   "outputs": [],
   "source": []
  },
  {
   "cell_type": "code",
   "execution_count": null,
   "metadata": {
    "lines_to_next_cell": 2,
    "pycharm": {
     "name": "#%%\n"
    }
   },
   "outputs": [],
   "source": []
  },
  {
   "attachments": {},
   "cell_type": "markdown",
   "metadata": {
    "pycharm": {
     "name": "#%% md\n"
    }
   },
   "source": [
    "## Don't Apply (map_elements) if you can"
   ]
  },
  {
   "cell_type": "code",
   "execution_count": null,
   "metadata": {
    "lines_to_next_cell": 0,
    "pycharm": {
     "name": "#%%\n"
    },
    "scrolled": true
   },
   "outputs": [],
   "source": [
    "# a glorious function\n",
    "def tweak_autos(autos):\n",
    "    return (autos\n",
    "     .with_columns(pl.col(['city08', 'comb08', 'highway08', 'displ',]).cast(pl.UInt8),\n",
    "         pl.col('cylinders').fill_null(0).cast(pl.UInt8),\n",
    "         pl.col(['range', 'fuelCost08', 'year',]).cast(pl.UInt16),\n",
    "         pl.col(['make', 'model',]).cast(pl.Categorical),\n",
    "         pl.col('drive').fill_null('other').cast(pl.Categorical),\n",
    "         pl.col('eng_dscr').str.contains('FFS').alias('ffs'),\n",
    "         pl.col('trany').str.extract(r'(\\d+)').cast(pl.UInt8).alias('speeds'),\n",
    "         pl.col('trany').str.contains('Manual').alias('manual'),    \n",
    "        pl.col('createdOn').str.replace(' EDT', ' -0400')\n",
    "                   .str.replace(' EST', ' -0500')\n",
    "                   .str.strptime(pl.Datetime, '%a %b %d %H:%M:%S %z %Y')\n",
    "                   .dt.convert_time_zone('America/New_York')\n",
    "                   )\n",
    "     .select(pl.col(['city08', 'comb08', 'highway08', 'cylinders', 'displ', 'drive', 'fuelCost08',\n",
    "      'make', 'model', 'range', 'createdOn', 'year', 'ffs', 'speeds', 'manual']))\n",
    "    )\n",
    "\n",
    "autos2 = tweak_autos(autos)"
   ]
  },
  {
   "cell_type": "code",
   "execution_count": null,
   "metadata": {
    "pycharm": {
     "name": "#%%\n"
    },
    "scrolled": true
   },
   "outputs": [],
   "source": [
    "# try to me more Euro-centric\n",
    "def to_lper100km(val):\n",
    "    return 235.215 / val\n",
    "(autos2\n",
    " .with_columns(pl.col('city08').map_elements(to_lper100km))\n",
    ")"
   ]
  },
  {
   "cell_type": "code",
   "execution_count": null,
   "metadata": {
    "pycharm": {
     "name": "#%%\n"
    },
    "scrolled": true
   },
   "outputs": [],
   "source": [
    "# Same results\n",
    "\n",
    "(autos2\n",
    " .with_columns(235.215 / pl.col('city08'))\n",
    ")"
   ]
  },
  {
   "cell_type": "code",
   "execution_count": null,
   "metadata": {
    "pycharm": {
     "name": "#%%\n"
    },
    "scrolled": true
   },
   "outputs": [],
   "source": [
    "%%timeit\n",
    "(autos2\n",
    " .with_columns(235.215 / pl.col('city08'))\n",
    ")"
   ]
  },
  {
   "cell_type": "code",
   "execution_count": null,
   "metadata": {
    "pycharm": {
     "name": "#%%\n"
    },
    "scrolled": false
   },
   "outputs": [],
   "source": [
    "%%timeit\n",
    "(autos2\n",
    " .with_columns(pl.col('city08').map_elements(to_lper100km))\n",
    ")"
   ]
  },
  {
   "cell_type": "code",
   "execution_count": null,
   "metadata": {},
   "outputs": [],
   "source": [
    "3_7300 / 139"
   ]
  },
  {
   "cell_type": "code",
   "execution_count": null,
   "metadata": {
    "lines_to_next_cell": 2,
    "pycharm": {
     "name": "#%%\n"
    }
   },
   "outputs": [],
   "source": []
  },
  {
   "cell_type": "code",
   "execution_count": null,
   "metadata": {
    "lines_to_next_cell": 2,
    "pycharm": {
     "name": "#%%\n"
    }
   },
   "outputs": [],
   "source": []
  },
  {
   "cell_type": "code",
   "execution_count": null,
   "metadata": {
    "lines_to_next_cell": 2,
    "pycharm": {
     "name": "#%%\n"
    }
   },
   "outputs": [],
   "source": []
  },
  {
   "cell_type": "code",
   "execution_count": null,
   "metadata": {
    "lines_to_next_cell": 2,
    "pycharm": {
     "name": "#%%\n"
    }
   },
   "outputs": [],
   "source": []
  },
  {
   "cell_type": "code",
   "execution_count": null,
   "metadata": {
    "lines_to_next_cell": 2,
    "pycharm": {
     "name": "#%%\n"
    }
   },
   "outputs": [],
   "source": []
  },
  {
   "cell_type": "code",
   "execution_count": null,
   "metadata": {
    "lines_to_next_cell": 2,
    "pycharm": {
     "name": "#%%\n"
    }
   },
   "outputs": [],
   "source": []
  },
  {
   "cell_type": "code",
   "execution_count": null,
   "metadata": {
    "lines_to_next_cell": 2,
    "pycharm": {
     "name": "#%%\n"
    }
   },
   "outputs": [],
   "source": []
  },
  {
   "cell_type": "code",
   "execution_count": null,
   "metadata": {
    "lines_to_next_cell": 2,
    "pycharm": {
     "name": "#%%\n"
    }
   },
   "outputs": [],
   "source": []
  },
  {
   "cell_type": "code",
   "execution_count": null,
   "metadata": {
    "lines_to_next_cell": 2,
    "pycharm": {
     "name": "#%%\n"
    }
   },
   "outputs": [],
   "source": []
  },
  {
   "cell_type": "code",
   "execution_count": null,
   "metadata": {
    "lines_to_next_cell": 2,
    "pycharm": {
     "name": "#%%\n"
    }
   },
   "outputs": [],
   "source": []
  },
  {
   "cell_type": "code",
   "execution_count": null,
   "metadata": {
    "lines_to_next_cell": 2,
    "pycharm": {
     "name": "#%%\n"
    }
   },
   "outputs": [],
   "source": []
  },
  {
   "cell_type": "code",
   "execution_count": null,
   "metadata": {
    "lines_to_next_cell": 2,
    "pycharm": {
     "name": "#%%\n"
    }
   },
   "outputs": [],
   "source": []
  },
  {
   "cell_type": "code",
   "execution_count": null,
   "metadata": {
    "lines_to_next_cell": 2,
    "pycharm": {
     "name": "#%%\n"
    }
   },
   "outputs": [],
   "source": []
  },
  {
   "cell_type": "code",
   "execution_count": null,
   "metadata": {
    "lines_to_next_cell": 2,
    "pycharm": {
     "name": "#%%\n"
    }
   },
   "outputs": [],
   "source": []
  },
  {
   "cell_type": "code",
   "execution_count": null,
   "metadata": {
    "lines_to_next_cell": 2,
    "pycharm": {
     "name": "#%%\n"
    }
   },
   "outputs": [],
   "source": []
  },
  {
   "cell_type": "code",
   "execution_count": null,
   "metadata": {
    "lines_to_next_cell": 2,
    "pycharm": {
     "name": "#%%\n"
    }
   },
   "outputs": [],
   "source": []
  },
  {
   "cell_type": "code",
   "execution_count": null,
   "metadata": {
    "lines_to_next_cell": 2,
    "pycharm": {
     "name": "#%%\n"
    }
   },
   "outputs": [],
   "source": []
  },
  {
   "cell_type": "markdown",
   "metadata": {
    "pycharm": {
     "name": "#%% md\n"
    }
   },
   "source": [
    "## Master Aggregation\n",
    "\n",
    "Let's compare mileage by country by year...🤔"
   ]
  },
  {
   "cell_type": "code",
   "execution_count": null,
   "metadata": {
    "pycharm": {
     "name": "#%%\n"
    },
    "scrolled": true
   },
   "outputs": [],
   "source": [
    "(autos2\n",
    "   .group_by('year')\n",
    "   .mean()\n",
    ")"
   ]
  },
  {
   "cell_type": "code",
   "execution_count": null,
   "metadata": {
    "pycharm": {
     "name": "#%%\n"
    }
   },
   "outputs": [],
   "source": [
    "import matplotlib.pyplot as plt\n",
    "import seaborn as sns\n",
    "plt.style.use('pandas1book') \n",
    "sns.set_context('talk')\n",
    "plt.plot(range(10))"
   ]
  },
  {
   "cell_type": "code",
   "execution_count": null,
   "metadata": {
    "pycharm": {
     "name": "#%%\n"
    },
    "scrolled": true
   },
   "outputs": [],
   "source": [
    "(autos2\n",
    "   .group_by('year')\n",
    "   .agg(pl.col('comb08').mean(),\n",
    "        pl.col('speeds').mean())\n",
    ")"
   ]
  },
  {
   "cell_type": "code",
   "execution_count": null,
   "metadata": {
    "pycharm": {
     "name": "#%%\n"
    },
    "scrolled": true
   },
   "outputs": [],
   "source": [
    "(autos2\n",
    "   .group_by('year')\n",
    "   .agg(pl.col('comb08').mean(),\n",
    "        pl.col('speeds').mean())\n",
    " .to_pandas()\n",
    " .set_index('year')\n",
    "# .plot()\n",
    ")"
   ]
  },
  {
   "cell_type": "code",
   "execution_count": null,
   "metadata": {
    "pycharm": {
     "name": "#%%\n"
    },
    "scrolled": true
   },
   "outputs": [],
   "source": [
    "(autos2\n",
    "   .group_by('year')\n",
    "   .agg(pl.col('comb08').mean(),\n",
    "        pl.col('speeds').mean())\n",
    " .to_pandas()\n",
    " .set_index('year')\n",
    " .sort_index()\n",
    " .plot()\n",
    ")"
   ]
  },
  {
   "cell_type": "code",
   "execution_count": null,
   "metadata": {
    "pycharm": {
     "name": "#%%\n"
    },
    "scrolled": true
   },
   "outputs": [],
   "source": [
    "(autos2\n",
    "   .group_by('year')\n",
    "   .agg(pl.col('comb08').std(),\n",
    "        pl.col('speeds').std())\n",
    " .to_pandas()\n",
    " .set_index('year')\n",
    " .sort_index()\n",
    " .plot()\n",
    ")"
   ]
  },
  {
   "cell_type": "code",
   "execution_count": null,
   "metadata": {},
   "outputs": [],
   "source": [
    "pl.when?"
   ]
  },
  {
   "cell_type": "code",
   "execution_count": null,
   "metadata": {
    "pycharm": {
     "name": "#%%\n"
    },
    "scrolled": true
   },
   "outputs": [],
   "source": [
    "# add country \n",
    "(autos2\n",
    " .with_columns(\n",
    "     pl.col('make').cast(pl.Utf8),\n",
    "     pl.when(pl.col('make').is_in(pl.Series(['Chevrolet', 'Ford', 'Dodge', 'GMC', 'Tesla'])))\n",
    "               .then(pl.lit('US'))\n",
    "               .otherwise(pl.lit('Other'))\n",
    "               .alias('country')\n",
    "     )\n",
    ")"
   ]
  },
  {
   "cell_type": "code",
   "execution_count": null,
   "metadata": {
    "pycharm": {
     "name": "#%%\n"
    },
    "scrolled": true
   },
   "outputs": [],
   "source": [
    "# need to convert back to utf8\n",
    "(autos2\n",
    " .with_columns(pl.when(pl.col('make').cast(pl.Utf8).is_in(['Chevrolet', 'Ford', 'Dodge', 'GMC', 'Tesla']))\n",
    "               .then(pl.lit('US'))\n",
    "               .otherwise(pl.lit('Other'))\n",
    "               .alias('country'))\n",
    "   .group_by(['year', 'country'])\n",
    "   .agg(pl.col('comb08').mean(),\n",
    "        pl.col('speeds').mean())\n",
    "# .to_pandas()\n",
    "# .set_index('year')\n",
    "# .sort_index()\n",
    "# .plot()\n",
    ")"
   ]
  },
  {
   "cell_type": "code",
   "execution_count": null,
   "metadata": {
    "pycharm": {
     "name": "#%%\n"
    },
    "scrolled": true
   },
   "outputs": [],
   "source": [
    "# need to convert back to utf8\n",
    "(autos2\n",
    " .with_columns(pl.when(pl.col('make').cast(pl.Utf8).is_in(['Chevrolet', 'Ford', 'Dodge', 'GMC', 'Tesla']))\n",
    "               .then(pl.lit('US'))\n",
    "               .otherwise(pl.lit('Other'))\n",
    "               .alias('country'))\n",
    "   .group_by(['year', 'country'])\n",
    "   .agg(pl.col('comb08').mean(),\n",
    "        pl.col('speeds').mean())\n",
    " .to_pandas()\n",
    " .set_index(['year', 'country'])\n",
    " .sort_index()\n",
    " .unstack()\n",
    " .plot().legend(bbox_to_anchor=(1, 1))\n",
    ")"
   ]
  },
  {
   "cell_type": "code",
   "execution_count": null,
   "metadata": {
    "pycharm": {
     "name": "#%%\n"
    },
    "scrolled": true
   },
   "outputs": [],
   "source": [
    "# use pivot\n",
    "(autos2\n",
    " .with_columns(pl.when(pl.col('make').cast(pl.Utf8).is_in(['Chevrolet', 'Ford', 'Dodge', 'GMC', 'Tesla']))\n",
    "               .then('US')\n",
    "               .otherwise('Other')\n",
    "               .alias('country'))\n",
    "   .pivot(index='year', values=['comb08', 'speeds'],\n",
    "          columns='country', aggregate_function='mean')\n",
    " .to_pandas()\n",
    " .set_index('year')\n",
    " .sort_index()\n",
    " .plot()\n",
    " .legend(bbox_to_anchor=(1,1))\n",
    ")"
   ]
  },
  {
   "cell_type": "code",
   "execution_count": null,
   "metadata": {
    "lines_to_next_cell": 2,
    "pycharm": {
     "name": "#%%\n"
    }
   },
   "outputs": [],
   "source": []
  },
  {
   "cell_type": "code",
   "execution_count": null,
   "metadata": {
    "lines_to_next_cell": 2,
    "pycharm": {
     "name": "#%%\n"
    }
   },
   "outputs": [],
   "source": []
  },
  {
   "cell_type": "code",
   "execution_count": null,
   "metadata": {
    "lines_to_next_cell": 2,
    "pycharm": {
     "name": "#%%\n"
    }
   },
   "outputs": [],
   "source": []
  },
  {
   "cell_type": "code",
   "execution_count": null,
   "metadata": {
    "lines_to_next_cell": 2,
    "pycharm": {
     "name": "#%%\n"
    }
   },
   "outputs": [],
   "source": []
  },
  {
   "cell_type": "code",
   "execution_count": null,
   "metadata": {
    "lines_to_next_cell": 2,
    "pycharm": {
     "name": "#%%\n"
    }
   },
   "outputs": [],
   "source": []
  },
  {
   "cell_type": "code",
   "execution_count": null,
   "metadata": {
    "lines_to_next_cell": 2,
    "pycharm": {
     "name": "#%%\n"
    }
   },
   "outputs": [],
   "source": []
  },
  {
   "cell_type": "code",
   "execution_count": null,
   "metadata": {
    "lines_to_next_cell": 2,
    "pycharm": {
     "name": "#%%\n"
    }
   },
   "outputs": [],
   "source": []
  },
  {
   "cell_type": "code",
   "execution_count": null,
   "metadata": {
    "lines_to_next_cell": 2,
    "pycharm": {
     "name": "#%%\n"
    }
   },
   "outputs": [],
   "source": []
  },
  {
   "cell_type": "code",
   "execution_count": null,
   "metadata": {
    "lines_to_next_cell": 2,
    "pycharm": {
     "name": "#%%\n"
    }
   },
   "outputs": [],
   "source": []
  },
  {
   "attachments": {},
   "cell_type": "markdown",
   "metadata": {
    "pycharm": {
     "name": "#%% md\n"
    }
   },
   "source": [
    "## Summary\n",
    "\n",
    "* Correct types save space and enable convenient math, string, and date functionality\n",
    "* Chaining operations will:\n",
    "   * Make code readable\n",
    "   * Remove bugs\n",
    "   * Easier to debug\n",
    "* ``.apply`` is slow for math\n",
    "* Aggregations are powerful. Play with them until they make sense\n",
    "\n",
    "\n",
    "Follow me on Twitter ``@__mharrison__``\n",
    "\n",
    "Course giveaway: Beyond Pandas 1 https://store.metasnake.com/8e40182f-16ae-4305-a904-371d4ff85d6a"
   ]
  },
  {
   "cell_type": "code",
   "execution_count": null,
   "metadata": {
    "lines_to_next_cell": 2,
    "pycharm": {
     "name": "#%%\n"
    }
   },
   "outputs": [],
   "source": []
  },
  {
   "cell_type": "code",
   "execution_count": null,
   "metadata": {
    "lines_to_next_cell": 2,
    "pycharm": {
     "name": "#%%\n"
    }
   },
   "outputs": [],
   "source": []
  },
  {
   "cell_type": "code",
   "execution_count": null,
   "id": "606f5aed",
   "metadata": {
    "lines_to_next_cell": 2,
    "pycharm": {
     "name": "#%%\n"
    }
   },
   "outputs": [],
   "source": []
  },
  {
   "cell_type": "code",
   "execution_count": null,
   "id": "48cf389e",
   "metadata": {
    "pycharm": {
     "name": "#%%\n"
    }
   },
   "outputs": [],
   "source": []
  }
 ],
 "metadata": {
  "jupytext": {
   "encoding": "# -*- coding: utf-8 -*-",
   "formats": "ipynb,py:light"
  },
  "kernelspec": {
   "display_name": "menv",
   "language": "python",
   "name": "python3"
  },
  "language_info": {
   "codemirror_mode": {
    "name": "ipython",
    "version": 3
   },
   "file_extension": ".py",
   "mimetype": "text/x-python",
   "name": "python",
   "nbconvert_exporter": "python",
   "pygments_lexer": "ipython3",
   "version": "3.10.13"
  },
  "vscode": {
   "interpreter": {
    "hash": "391a112c5d8063bb1ed75e17f94ea9abfe7bf72365421a70d5e3491b1de003be"
   }
  }
 },
 "nbformat": 4,
 "nbformat_minor": 4
}
