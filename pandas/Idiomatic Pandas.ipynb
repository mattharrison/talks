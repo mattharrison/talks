{
 "cells": [
  {
   "cell_type": "markdown",
   "metadata": {
    "lines_to_next_cell": 0,
    "pycharm": {
     "name": "#%% md\n"
    }
   },
   "source": [
    "# Idiomatic Pandas\n",
    "## Better Pandas Code\n",
    "\n",
    "\n",
    "https://github.com/mattharrison/talks"
   ]
  },
  {
   "cell_type": "code",
   "execution_count": null,
   "metadata": {},
   "outputs": [],
   "source": []
  },
  {
   "cell_type": "code",
   "execution_count": null,
   "metadata": {},
   "outputs": [],
   "source": []
  },
  {
   "cell_type": "code",
   "execution_count": null,
   "metadata": {},
   "outputs": [],
   "source": []
  },
  {
   "cell_type": "code",
   "execution_count": null,
   "metadata": {},
   "outputs": [],
   "source": []
  },
  {
   "cell_type": "code",
   "execution_count": null,
   "metadata": {},
   "outputs": [],
   "source": []
  },
  {
   "cell_type": "code",
   "execution_count": null,
   "metadata": {},
   "outputs": [],
   "source": []
  },
  {
   "cell_type": "code",
   "execution_count": null,
   "metadata": {
    "lines_to_next_cell": 2
   },
   "outputs": [],
   "source": []
  },
  {
   "cell_type": "markdown",
   "metadata": {
    "lines_to_next_cell": 0,
    "pycharm": {
     "name": "#%% md\n"
    }
   },
   "source": [
    "## About Matt  Harrison @\\_\\_mharrison\\_\\_\n",
    "\n",
    "* Author of Effective Pandas, Machine Learning Pocket Reference, and Learning Python for Data.\n",
    "* Advisor at Ponder (creators of Modin) - sold to Snowflake\n",
    "* Corporate trainer at MetaSnake. Taught Pandas to 1000's of students.\n",
    "* Upcoming Live Courses <a href='store.metasnake.com'>at MetaSnake</a>"
   ]
  },
  {
   "cell_type": "code",
   "execution_count": null,
   "metadata": {},
   "outputs": [],
   "source": []
  },
  {
   "cell_type": "code",
   "execution_count": null,
   "metadata": {},
   "outputs": [],
   "source": []
  },
  {
   "cell_type": "code",
   "execution_count": null,
   "metadata": {},
   "outputs": [],
   "source": []
  },
  {
   "cell_type": "code",
   "execution_count": null,
   "metadata": {
    "lines_to_next_cell": 2
   },
   "outputs": [],
   "source": []
  },
  {
   "cell_type": "code",
   "execution_count": null,
   "metadata": {
    "lines_to_next_cell": 2,
    "pycharm": {
     "name": "#%%\n"
    }
   },
   "outputs": [],
   "source": []
  },
  {
   "cell_type": "code",
   "execution_count": null,
   "metadata": {
    "lines_to_next_cell": 2,
    "pycharm": {
     "name": "#%%\n"
    }
   },
   "outputs": [],
   "source": []
  },
  {
   "cell_type": "code",
   "execution_count": null,
   "metadata": {
    "lines_to_next_cell": 2,
    "pycharm": {
     "name": "#%%\n"
    }
   },
   "outputs": [],
   "source": []
  },
  {
   "cell_type": "code",
   "execution_count": null,
   "metadata": {
    "lines_to_next_cell": 2,
    "pycharm": {
     "name": "#%%\n"
    }
   },
   "outputs": [],
   "source": []
  },
  {
   "cell_type": "markdown",
   "metadata": {
    "lines_to_next_cell": 0,
    "pycharm": {
     "name": "#%%\n"
    }
   },
   "source": [
    "## Pandas Background\n",
    "\n",
    "* 2000 NLP\n",
    "* 2006 Created Python OLAP Engine\n",
    "* 2009 Heard about Pandas\n",
    "* Used Pandas for failure modeling, analytics, and ml\n",
    "* 2016 Learning the Pandas Library\n",
    "* 2019 Spark\n",
    "* 2020 Pandas Cookbook\n",
    "* 2021 Effective Pandas\n",
    "* 2022 CuDf, Modin, Polars\n",
    "* 2023 Pandas 2.0"
   ]
  },
  {
   "cell_type": "code",
   "execution_count": null,
   "metadata": {},
   "outputs": [],
   "source": []
  },
  {
   "cell_type": "code",
   "execution_count": null,
   "metadata": {},
   "outputs": [],
   "source": []
  },
  {
   "cell_type": "code",
   "execution_count": null,
   "metadata": {},
   "outputs": [],
   "source": []
  },
  {
   "cell_type": "code",
   "execution_count": null,
   "metadata": {},
   "outputs": [],
   "source": []
  },
  {
   "cell_type": "code",
   "execution_count": null,
   "metadata": {},
   "outputs": [],
   "source": []
  },
  {
   "cell_type": "code",
   "execution_count": null,
   "metadata": {
    "lines_to_next_cell": 2
   },
   "outputs": [],
   "source": []
  },
  {
   "cell_type": "code",
   "execution_count": null,
   "metadata": {},
   "outputs": [],
   "source": []
  },
  {
   "cell_type": "code",
   "execution_count": null,
   "metadata": {},
   "outputs": [],
   "source": []
  },
  {
   "cell_type": "code",
   "execution_count": null,
   "metadata": {
    "lines_to_next_cell": 2,
    "pycharm": {
     "name": "#%%\n"
    }
   },
   "outputs": [],
   "source": []
  },
  {
   "cell_type": "code",
   "execution_count": null,
   "metadata": {
    "lines_to_next_cell": 2,
    "pycharm": {
     "name": "#%%\n"
    }
   },
   "outputs": [],
   "source": []
  },
  {
   "cell_type": "code",
   "execution_count": null,
   "metadata": {
    "lines_to_next_cell": 2,
    "pycharm": {
     "name": "#%%\n"
    }
   },
   "outputs": [],
   "source": []
  },
  {
   "cell_type": "markdown",
   "metadata": {
    "pycharm": {
     "name": "#%% md\n"
    }
   },
   "source": [
    "## Outline of Opinions\n",
    "\n",
    "* Load Data\n",
    "* Types\n",
    "* Chaining\n",
    "* Mutation\n",
    "* Apply\n",
    "* Aggregation"
   ]
  },
  {
   "cell_type": "markdown",
   "metadata": {
    "pycharm": {
     "name": "#%% md\n"
    }
   },
   "source": [
    "## Data"
   ]
  },
  {
   "cell_type": "code",
   "execution_count": null,
   "metadata": {},
   "outputs": [],
   "source": [
    "!pip install -U pandas pyarrow"
   ]
  },
  {
   "cell_type": "code",
   "execution_count": null,
   "metadata": {
    "lines_to_next_cell": 2,
    "pycharm": {
     "name": "#%%\n"
    }
   },
   "outputs": [],
   "source": [
    "from IPython.display import display\n",
    "import numpy as np\n",
    "import pandas as pd\n",
    "#import modin.pandas as pd"
   ]
  },
  {
   "cell_type": "code",
   "execution_count": null,
   "metadata": {
    "pycharm": {
     "name": "#%%\n"
    },
    "scrolled": true
   },
   "outputs": [],
   "source": [
    "pd.__version__"
   ]
  },
  {
   "cell_type": "code",
   "execution_count": null,
   "metadata": {
    "pycharm": {
     "name": "#%%\n"
    }
   },
   "outputs": [],
   "source": [
    "pd.options.display.min_rows = 20"
   ]
  },
  {
   "cell_type": "code",
   "execution_count": null,
   "metadata": {
    "pycharm": {
     "name": "#%%\n"
    }
   },
   "outputs": [],
   "source": [
    "autos = pd.read_csv('https://github.com/mattharrison/datasets/raw/master/data/vehicles.csv.zip',\n",
    "                   dtype_backend='pyarrow',\n",
    "                   engine='pyarrow')"
   ]
  },
  {
   "cell_type": "code",
   "execution_count": null,
   "metadata": {
    "pycharm": {
     "name": "#%%\n"
    }
   },
   "outputs": [],
   "source": [
    "autos = pd.read_csv('/Users/matt/Downloads/vehicles.csv.zip',\n",
    "                   dtype_backend='pyarrow',\n",
    "                   engine='pyarrow')"
   ]
  },
  {
   "cell_type": "code",
   "execution_count": null,
   "metadata": {
    "lines_to_next_cell": 0,
    "pycharm": {
     "name": "#%%\n"
    },
    "scrolled": true
   },
   "outputs": [],
   "source": [
    "# a glorious function\n",
    "def tweak_autos(autos):\n",
    "    cols = ['city08', 'comb08', 'highway08', 'cylinders', 'displ', 'drive', 'eng_dscr', \n",
    "        'fuelCost08', 'make', 'model', 'trany', 'range', 'createdOn', 'year']\n",
    "    return (autos\n",
    "     [cols]\n",
    "     .assign(cylinders=autos.cylinders.fillna(0).astype('int8[pyarrow]'),\n",
    "             displ=autos.displ.fillna(0).astype('float32[pyarrow]'),\n",
    "             drive=autos.drive.fillna('Other').astype('category'),\n",
    "             automatic=autos.trany.astype(str).str.contains('Auto'),\n",
    "             speeds=autos.trany.astype(str).str.extract(r'(\\d+)').fillna('20').astype('int8[pyarrow]'),\n",
    "             createdOn=pd.to_datetime(autos\n",
    "                .createdOn\n",
    "                .replace({' EDT': ' -0400', ' EST': ' -0500'}, regex=True),\n",
    "                          format='%a %b %d %H:%M:%S %z %Y', utc=True)\n",
    "                .dt.tz_convert('America/New_York'),\n",
    "             ffs=autos.eng_dscr.str.contains('FFS')\n",
    "            )\n",
    "     .astype({'highway08': 'int8[pyarrow]', 'city08': 'int16[pyarrow]', 'comb08': 'int16[pyarrow]', 'fuelCost08': 'int16[pyarrow]',\n",
    "              'range': 'int16[pyarrow]',  'year': 'int16[pyarrow]', 'make': 'category'})\n",
    "     .loc[:, ['city08', 'comb08', 'highway08', 'cylinders', 'displ', 'drive',\n",
    "       'fuelCost08', 'make', 'model', 'range', 'createdOn', 'year',\n",
    "       'automatic', 'speeds', 'ffs']]\n",
    "    )\n",
    "\n",
    "tweak_autos(autos)"
   ]
  },
  {
   "cell_type": "code",
   "execution_count": null,
   "metadata": {
    "pycharm": {
     "name": "#%%\n"
    },
    "scrolled": true
   },
   "outputs": [],
   "source": [
    "autos.columns"
   ]
  },
  {
   "cell_type": "code",
   "execution_count": null,
   "metadata": {},
   "outputs": [],
   "source": [
    "# 68 Megs (w/ Pandas 1.x)\n",
    "# 29 M (Pandas 2)\n",
    "autos.memory_usage(deep=True).sum()"
   ]
  },
  {
   "cell_type": "markdown",
   "metadata": {},
   "source": [
    "## Exercise\n",
    "\n",
    "* View the documentation for the `.info` method (use `df.info??`)\n",
    "* Run the `.info()` method\n",
    "* Run the `.describe()` method"
   ]
  },
  {
   "cell_type": "code",
   "execution_count": null,
   "metadata": {
    "lines_to_next_cell": 2,
    "pycharm": {
     "name": "#%%\n"
    }
   },
   "outputs": [],
   "source": []
  },
  {
   "cell_type": "markdown",
   "metadata": {
    "pycharm": {
     "name": "#%% md\n"
    }
   },
   "source": [
    "## Types\n",
    "Getting the right types will enable analysis and correctness."
   ]
  },
  {
   "cell_type": "code",
   "execution_count": null,
   "metadata": {
    "pycharm": {
     "name": "#%%\n"
    }
   },
   "outputs": [],
   "source": [
    "cols = ['city08', 'comb08', 'highway08', 'cylinders', 'displ', 'drive', 'eng_dscr', \n",
    "        'fuelCost08', 'make', 'model', 'trany', 'range', 'createdOn', 'year']"
   ]
  },
  {
   "cell_type": "code",
   "execution_count": null,
   "metadata": {
    "pycharm": {
     "name": "#%%\n"
    }
   },
   "outputs": [],
   "source": [
    "autos[cols].dtypes"
   ]
  },
  {
   "cell_type": "code",
   "execution_count": null,
   "metadata": {
    "pycharm": {
     "name": "#%%\n"
    },
    "scrolled": true
   },
   "outputs": [],
   "source": [
    "autos[cols].memory_usage(deep=False)"
   ]
  },
  {
   "cell_type": "code",
   "execution_count": null,
   "metadata": {
    "pycharm": {
     "name": "#%%\n"
    }
   },
   "outputs": [],
   "source": [
    "# 19 Megs (Pandas 1)\n",
    "# 7 Megs (Pandas 2)\n",
    "autos[cols].memory_usage(deep=True).sum()"
   ]
  },
  {
   "cell_type": "code",
   "execution_count": null,
   "metadata": {
    "lines_to_next_cell": 2,
    "pycharm": {
     "name": "#%%\n"
    }
   },
   "outputs": [],
   "source": []
  },
  {
   "cell_type": "markdown",
   "metadata": {
    "pycharm": {
     "name": "#%% md\n"
    }
   },
   "source": [
    "### Ints"
   ]
  },
  {
   "cell_type": "code",
   "execution_count": null,
   "metadata": {
    "pycharm": {
     "name": "#%%\n"
    }
   },
   "outputs": [],
   "source": [
    "autos[cols].select_dtypes(int).describe()"
   ]
  },
  {
   "cell_type": "code",
   "execution_count": null,
   "metadata": {
    "pycharm": {
     "name": "#%%\n"
    },
    "scrolled": true
   },
   "outputs": [],
   "source": [
    "# chaining\n",
    "(autos\n",
    " [cols]\n",
    " .select_dtypes(int)\n",
    " .describe()\n",
    ")"
   ]
  },
  {
   "cell_type": "code",
   "execution_count": null,
   "metadata": {
    "pycharm": {
     "name": "#%%\n"
    },
    "scrolled": true
   },
   "outputs": [],
   "source": [
    "# can comb08 be an int8?\n",
    "np.iinfo(np.int8)"
   ]
  },
  {
   "cell_type": "code",
   "execution_count": null,
   "metadata": {
    "pycharm": {
     "name": "#%%\n"
    },
    "scrolled": true
   },
   "outputs": [],
   "source": [
    "# no but maybe a uint8\n",
    "np.iinfo(np.uint8)"
   ]
  },
  {
   "cell_type": "code",
   "execution_count": null,
   "metadata": {
    "pycharm": {
     "name": "#%%\n"
    }
   },
   "outputs": [],
   "source": [
    "# chaining\n",
    "(autos\n",
    " [cols]\n",
    " .astype({'highway08': 'int8[pyarrow]', 'city08': 'int16[pyarrow]', 'comb08': 'uint8[pyarrow]' })\n",
    " #.select_dtypes([int, 'int8[pyarrow]'])  # only int64 or int8\n",
    " .select_dtypes('integer')  # all integers\n",
    " .describe()\n",
    ")"
   ]
  },
  {
   "cell_type": "markdown",
   "metadata": {},
   "source": [
    "## Integer Exercise\n",
    "* Find the 90% `.quantile` for the integer columns\n",
    "* Find the *spearman* correlation coefficient (`.corr`) for the integer columns"
   ]
  },
  {
   "cell_type": "code",
   "execution_count": null,
   "metadata": {},
   "outputs": [],
   "source": []
  },
  {
   "cell_type": "code",
   "execution_count": null,
   "metadata": {},
   "outputs": [],
   "source": []
  },
  {
   "cell_type": "code",
   "execution_count": null,
   "metadata": {},
   "outputs": [],
   "source": []
  },
  {
   "cell_type": "markdown",
   "metadata": {},
   "source": [
    "## Other int types"
   ]
  },
  {
   "cell_type": "code",
   "execution_count": null,
   "metadata": {},
   "outputs": [],
   "source": [
    "# Fancy query to select columns where row \"max\" is < 255\n",
    "(autos\n",
    " [cols]\n",
    " .describe()\n",
    " .loc[:, lambda a_df: a_df.loc['max'] < 255]\n",
    ")"
   ]
  },
  {
   "cell_type": "code",
   "execution_count": null,
   "metadata": {
    "pycharm": {
     "name": "#%%\n"
    },
    "scrolled": true
   },
   "outputs": [],
   "source": [
    "# chaining\n",
    "# use 'integer' so see all int-like columns\n",
    "(autos\n",
    " [cols]\n",
    " .astype({'highway08': 'int8[pyarrow]', 'city08': 'int16[pyarrow]', 'comb08': 'int16[pyarrow]', 'fuelCost08': 'int16[pyarrow]', \n",
    "          'range': 'int16[pyarrow]', 'year': 'int16[pyarrow]'})\n",
    " .select_dtypes(['integer'])  # see https://numpy.org/doc/stable/reference/arrays.scalars.html\n",
    " .describe()\n",
    ")"
   ]
  },
  {
   "cell_type": "code",
   "execution_count": null,
   "metadata": {
    "pycharm": {
     "name": "#%%\n"
    },
    "scrolled": true
   },
   "outputs": [],
   "source": [
    "# chaining\n",
    "(autos\n",
    " [cols]\n",
    " .astype({'highway08': 'int8[pyarrow]', 'city08': 'int16[pyarrow]', \n",
    "          'comb08': 'int16[pyarrow]', 'fuelCost08': 'int16[pyarrow]', \n",
    "          'range': 'int16[pyarrow]', 'year': 'int16[pyarrow]'})\n",
    " .memory_usage(deep=True)\n",
    " .sum()  # was 19,647,323\n",
    ")"
   ]
  },
  {
   "cell_type": "code",
   "execution_count": null,
   "metadata": {
    "lines_to_next_cell": 2,
    "pycharm": {
     "name": "#%%\n"
    }
   },
   "outputs": [],
   "source": []
  },
  {
   "cell_type": "markdown",
   "metadata": {
    "pycharm": {
     "name": "#%% md\n"
    }
   },
   "source": [
    "### Floats"
   ]
  },
  {
   "cell_type": "code",
   "execution_count": null,
   "metadata": {
    "pycharm": {
     "name": "#%%\n"
    }
   },
   "outputs": [],
   "source": [
    "(autos\n",
    "[cols]\n",
    ".select_dtypes('float'))"
   ]
  },
  {
   "cell_type": "code",
   "execution_count": null,
   "metadata": {},
   "outputs": [],
   "source": [
    "# In pandas 1 this would be float\n",
    "autos.cylinders.dtype"
   ]
  },
  {
   "cell_type": "code",
   "execution_count": null,
   "metadata": {
    "pycharm": {
     "name": "#%%\n"
    }
   },
   "outputs": [],
   "source": [
    "# surprise! cylinders looks int-like\n",
    "autos.cylinders.describe()"
   ]
  },
  {
   "cell_type": "code",
   "execution_count": null,
   "metadata": {
    "pycharm": {
     "name": "#%%\n"
    }
   },
   "outputs": [],
   "source": [
    "# opps! missing values\n",
    "autos.cylinders.value_counts(dropna=False)"
   ]
  },
  {
   "cell_type": "code",
   "execution_count": null,
   "metadata": {
    "pycharm": {
     "name": "#%%\n"
    },
    "scrolled": true
   },
   "outputs": [],
   "source": [
    "# where are they missing?\n",
    "(autos\n",
    "  [cols]\n",
    "  .query('cylinders.isna()')\n",
    ")"
   ]
  },
  {
   "cell_type": "code",
   "execution_count": null,
   "metadata": {
    "pycharm": {
     "name": "#%%\n"
    }
   },
   "outputs": [],
   "source": [
    "# chaining - add cylinders and displ columns\n",
    "(autos\n",
    " [cols]\n",
    " .assign(cylinders=autos.cylinders.fillna(0).astype('int8[pyarrow]'),\n",
    "         displ=autos.displ.fillna(0))\n",
    " .astype({'highway08': 'int8[pyarrow]', 'city08': 'int16[pyarrow]', 'comb08': 'int16[pyarrow]', \n",
    "          'fuelCost08': 'int16[pyarrow]', 'range': 'int16[pyarrow]', 'year': 'int16[pyarrow]',  })\n",
    " .describe()\n",
    ")"
   ]
  },
  {
   "cell_type": "code",
   "execution_count": null,
   "metadata": {},
   "outputs": [],
   "source": [
    "np.iinfo(np.uint16)"
   ]
  },
  {
   "cell_type": "code",
   "execution_count": null,
   "metadata": {
    "pycharm": {
     "name": "#%%\n"
    },
    "scrolled": true
   },
   "outputs": [],
   "source": [
    "# use this to inspect float sizes\n",
    "np.finfo(np.float16)"
   ]
  },
  {
   "cell_type": "code",
   "execution_count": null,
   "metadata": {
    "pycharm": {
     "name": "#%%\n"
    },
    "scrolled": true
   },
   "outputs": [],
   "source": [
    "# Pyarrow doesn't have float16...\n",
    "# use this to inspect float sizes\n",
    "np.finfo(np.float32)"
   ]
  },
  {
   "cell_type": "code",
   "execution_count": null,
   "metadata": {
    "pycharm": {
     "name": "#%%\n"
    },
    "scrolled": true
   },
   "outputs": [],
   "source": [
    "# chaining - convert displ to float32\n",
    "(autos\n",
    " [cols]\n",
    " .assign(cylinders=autos.cylinders.fillna(0).astype('int8[pyarrow]'),\n",
    "         displ=autos.displ.fillna(0).astype('float32[pyarrow]'))\n",
    " .astype({'highway08': 'int8[pyarrow]', 'city08': 'int16[pyarrow]', 'comb08': 'int16[pyarrow]', \n",
    "          'fuelCost08': 'int16[pyarrow]', 'range': 'int16[pyarrow]',  'year': 'int16[pyarrow]'})\n",
    ")"
   ]
  },
  {
   "cell_type": "code",
   "execution_count": null,
   "metadata": {
    "pycharm": {
     "name": "#%%\n"
    },
    "scrolled": true
   },
   "outputs": [],
   "source": [
    "# new memory usage\n",
    "(autos\n",
    " .loc[:, cols]\n",
    " .assign(cylinders=autos.cylinders.fillna(0).astype('int8[pyarrow]'),\n",
    "         displ=autos.displ.fillna(0).astype('float32[pyarrow]'))\n",
    " .astype({'highway08': 'int8[pyarrow]', 'city08': 'int16[pyarrow]', 'comb08': 'int16[pyarrow]',\n",
    "          'fuelCost08': 'int16[pyarrow]', 'range': 'int16[pyarrow]',  'year': 'int16[pyarrow]'})\n",
    " .memory_usage(deep=True)\n",
    " .sum()  # was 19,647,323\n",
    ")"
   ]
  },
  {
   "cell_type": "markdown",
   "metadata": {},
   "source": [
    "## Float Exercise\n",
    "\n",
    "* Find the `.count` of missing values for the float columns\n",
    "* Find the Pearson correlation coefficient for float columns"
   ]
  },
  {
   "cell_type": "code",
   "execution_count": null,
   "metadata": {
    "lines_to_next_cell": 2,
    "pycharm": {
     "name": "#%%\n"
    }
   },
   "outputs": [],
   "source": []
  },
  {
   "cell_type": "code",
   "execution_count": null,
   "metadata": {
    "lines_to_next_cell": 2,
    "pycharm": {
     "name": "#%%\n"
    }
   },
   "outputs": [],
   "source": []
  },
  {
   "cell_type": "markdown",
   "metadata": {
    "pycharm": {
     "name": "#%% md\n"
    }
   },
   "source": [
    "### Objects"
   ]
  },
  {
   "cell_type": "code",
   "execution_count": null,
   "metadata": {
    "pycharm": {
     "name": "#%%\n"
    }
   },
   "outputs": [],
   "source": [
    "# pandas 1.x\n",
    "(autos\n",
    " [cols]\n",
    " .select_dtypes(object)\n",
    ")"
   ]
  },
  {
   "cell_type": "code",
   "execution_count": null,
   "metadata": {
    "pycharm": {
     "name": "#%%\n"
    },
    "scrolled": true
   },
   "outputs": [],
   "source": [
    "# pandas 2\n",
    "(autos\n",
    " [cols]\n",
    " .select_dtypes('string')\n",
    ")"
   ]
  },
  {
   "cell_type": "code",
   "execution_count": null,
   "metadata": {
    "pycharm": {
     "name": "#%%\n"
    }
   },
   "outputs": [],
   "source": [
    "# looks categorical\n",
    "# Note that missing values are EMPTY strings in Pandas 2.0 but not 2.1\n",
    "(autos.drive.value_counts(dropna=False))"
   ]
  },
  {
   "cell_type": "code",
   "execution_count": null,
   "metadata": {
    "pycharm": {
     "name": "#%%\n"
    },
    "scrolled": true
   },
   "outputs": [],
   "source": [
    "# where are the values missing for drive?\n",
    "(autos\n",
    " [cols]\n",
    " .query('drive.isna()'))"
   ]
  },
  {
   "cell_type": "code",
   "execution_count": null,
   "metadata": {
    "pycharm": {
     "name": "#%%\n"
    },
    "scrolled": true
   },
   "outputs": [],
   "source": [
    "# where are the values missing for drive?\n",
    "(autos\n",
    " [cols]\n",
    " .query('drive == \"\"'))"
   ]
  },
  {
   "cell_type": "code",
   "execution_count": null,
   "metadata": {
    "scrolled": true
   },
   "outputs": [],
   "source": [
    "autos.sample(10)"
   ]
  },
  {
   "cell_type": "code",
   "execution_count": null,
   "metadata": {
    "pycharm": {
     "name": "#%%\n"
    }
   },
   "outputs": [],
   "source": [
    "# drive and make (in .astype) to category\n",
    "(autos\n",
    " [cols]\n",
    " .assign(cylinders=autos.cylinders.fillna(0).astype('int8[pyarrow]'),\n",
    "         displ=autos.displ.fillna(0).astype('float32[pyarrow]'),\n",
    "         #drive=autos.drive.replace('', 'Other').astype('category')\n",
    "         drive=autos.drive.fillna('Other').astype('category')\n",
    "        )\n",
    " .astype({'highway08': 'int8[pyarrow]', 'city08': 'int16[pyarrow]', 'comb08': 'int16[pyarrow]', 'fuelCost08': 'int16[pyarrow]', \n",
    "          'range': 'int16[pyarrow]',  'year': 'int16[pyarrow]', 'make': 'category'})\n",
    " .memory_usage(deep=True)\n",
    " .sum()  # was 19,647,323\n",
    ")"
   ]
  },
  {
   "cell_type": "code",
   "execution_count": null,
   "metadata": {
    "pycharm": {
     "name": "#%%\n"
    },
    "scrolled": true
   },
   "outputs": [],
   "source": [
    "# let's inspect trany\n",
    "# looks like it has two pieces of information embedded in column\n",
    "(autos.trany.value_counts(dropna=False))"
   ]
  },
  {
   "cell_type": "code",
   "execution_count": null,
   "metadata": {
    "pycharm": {
     "name": "#%%\n"
    },
    "scrolled": true
   },
   "outputs": [],
   "source": [
    "# add automatic, speeds from trany, then drop trany\n",
    "(autos\n",
    " [cols]\n",
    " .assign(cylinders=autos.cylinders.fillna(0).astype('int8[pyarrow]'),\n",
    "         displ=autos.displ.fillna(0).astype('float32[pyarrow]'),\n",
    "         drive=autos.drive.fillna('Other').astype('category'),\n",
    "         automatic=autos.trany.str.contains('Auto'),\n",
    "         # pyarrow doesn't like next line\n",
    "         speeds=autos.trany.str.extract(r'(\\d+)').fillna('20').astype('int8[pyarrow]')\n",
    "        )\n",
    " .astype({'highway08': 'int8[pyarrow]', 'city08': 'int16[pyarrow]', 'comb08': 'int16[pyarrow]', 'fuelCost08': 'int16[pyarrow]', \n",
    "          'range': 'int16[pyarrow]',  'year': 'int16[pyarrow]', 'make': 'category'})\n",
    " .drop(columns=['trany'])\n",
    " .memory_usage(deep=True)\n",
    " .sum()  # was 19,647,323\n",
    ")"
   ]
  },
  {
   "cell_type": "code",
   "execution_count": null,
   "metadata": {
    "pycharm": {
     "name": "#%%\n"
    },
    "scrolled": true
   },
   "outputs": [],
   "source": [
    "# add automatic, speeds from trany, then drop trany\n",
    "(autos\n",
    " [cols]\n",
    " .assign(cylinders=autos.cylinders.fillna(0).astype('int8[pyarrow]'),\n",
    "         displ=autos.displ.fillna(0).astype('float32[pyarrow]'),\n",
    "         drive=autos.drive.fillna('Other').astype('category'),\n",
    "         automatic=autos.trany.str.contains('Auto'),\n",
    "         # pyarrow doesn't like next line\n",
    "         speeds=autos.trany.astype(str).str.extract(r'(\\d+)').fillna('20').astype('int8[pyarrow]')\n",
    "        )\n",
    " .astype({'highway08': 'int8[pyarrow]', 'city08': 'int16[pyarrow]', 'comb08': 'int16[pyarrow]', 'fuelCost08': 'int16[pyarrow]', \n",
    "          'range': 'int16[pyarrow]',  'year': 'int16[pyarrow]', 'make': 'category'})\n",
    " .drop(columns=['trany'])\n",
    " #.memory_usage(deep=True)\n",
    " #.sum()  # was 19,647,323\n",
    ")"
   ]
  },
  {
   "cell_type": "code",
   "execution_count": null,
   "metadata": {},
   "outputs": [],
   "source": [
    "# note that we can add spacing to the the column transformation\n",
    "# to make it easier to read\n",
    "(autos\n",
    " .trany\n",
    " .astype(str)\n",
    " .str.extract(r'(\\d+)')\n",
    " .fillna('20')\n",
    " .astype('int8[pyarrow]')\n",
    ")"
   ]
  },
  {
   "cell_type": "markdown",
   "metadata": {},
   "source": [
    "## String Exercise\n",
    "* Find the `.str` attributes of a string column\n",
    "* Pull up the documentation for a string attribute (`.startswith`)"
   ]
  },
  {
   "cell_type": "code",
   "execution_count": null,
   "metadata": {
    "lines_to_next_cell": 2,
    "pycharm": {
     "name": "#%%\n"
    }
   },
   "outputs": [],
   "source": []
  },
  {
   "cell_type": "markdown",
   "metadata": {
    "pycharm": {
     "name": "#%% md\n"
    }
   },
   "source": [
    "### Dates"
   ]
  },
  {
   "cell_type": "code",
   "execution_count": null,
   "metadata": {
    "scrolled": true
   },
   "outputs": [],
   "source": [
    "autos.createdOn"
   ]
  },
  {
   "cell_type": "code",
   "execution_count": null,
   "metadata": {
    "scrolled": true
   },
   "outputs": [],
   "source": [
    "pd.to_datetime(autos.createdOn)"
   ]
  },
  {
   "cell_type": "code",
   "execution_count": null,
   "metadata": {},
   "outputs": [],
   "source": [
    "# add a format (works for a few...)\n",
    "pd.to_datetime(autos.createdOn.iloc[:10], format='%a %b %d %H:%M:%S %Z %Y')"
   ]
  },
  {
   "cell_type": "code",
   "execution_count": null,
   "metadata": {
    "scrolled": true
   },
   "outputs": [],
   "source": [
    "pd.to_datetime(autos.createdOn, format='%a %b %d %H:%M:%S %Z %Y')"
   ]
  },
  {
   "cell_type": "code",
   "execution_count": null,
   "metadata": {
    "scrolled": true
   },
   "outputs": [],
   "source": [
    "# Change problematic abbreviatios to offsets\n",
    "# Also need to convert to UTC (otherwise type is bad)\n",
    "pd.to_datetime(autos\n",
    "    .createdOn\n",
    "    .replace({' EDT': ' -0400', ' EST': ' -0500'}, regex=True),\n",
    "              format='%a %b %d %H:%M:%S %z %Y', utc=True)"
   ]
  },
  {
   "cell_type": "code",
   "execution_count": null,
   "metadata": {},
   "outputs": [],
   "source": [
    "# Change TZ\n",
    "dates = (pd.to_datetime(autos\n",
    "    .createdOn\n",
    "    .replace({' EDT': ' -0400', ' EST': ' -0500'}, regex=True),\n",
    "              format='%a %b %d %H:%M:%S %z %Y', utc=True)\n",
    " .dt.tz_convert('America/New_York')\n",
    ")\n",
    "\n",
    "dates"
   ]
  },
  {
   "cell_type": "code",
   "execution_count": null,
   "metadata": {},
   "outputs": [],
   "source": [
    "dates.dt."
   ]
  },
  {
   "cell_type": "code",
   "execution_count": null,
   "metadata": {
    "pycharm": {
     "name": "#%%\n"
    },
    "scrolled": true
   },
   "outputs": [],
   "source": [
    "# add createdOn\n",
    "(autos\n",
    " [cols]\n",
    " .assign(cylinders=autos.cylinders.fillna(0).astype('int8[pyarrow]'),\n",
    "         displ=autos.displ.fillna(0).astype('float32[pyarrow]'),\n",
    "         drive=autos.drive.fillna('Other').astype('category'),\n",
    "         automatic=autos.trany.str.contains('Auto'),\n",
    "         speeds=autos.trany.astype(str).str.extract(r'(\\d+)').fillna('20').astype('int8[pyarrow]'),\n",
    "         createdOn=pd.to_datetime(autos\n",
    "            .createdOn\n",
    "            .replace({' EDT': ' -0400', ' EST': ' -0500'}, regex=True),\n",
    "                      format='%a %b %d %H:%M:%S %z %Y', utc=True)\n",
    "            .dt.tz_convert('America/New_York')\n",
    "        )\n",
    " .astype({'highway08': 'int8[pyarrow]', 'city08': 'int16[pyarrow]', 'comb08': 'int16[pyarrow]', 'fuelCost08': 'int16[pyarrow]', \n",
    "          'range': 'int16[pyarrow]',  'year': 'int16[pyarrow]', 'make': 'category'})\n",
    " .drop(columns=['trany'])\n",
    " .memory_usage(deep=True)\n",
    " .sum()  # was 19,647,323\n",
    ")"
   ]
  },
  {
   "cell_type": "code",
   "execution_count": null,
   "metadata": {},
   "outputs": [],
   "source": [
    "autos.eng_dscr.value_counts(dropna=False)"
   ]
  },
  {
   "cell_type": "code",
   "execution_count": null,
   "metadata": {
    "pycharm": {
     "name": "#%%\n"
    }
   },
   "outputs": [],
   "source": [
    "# add ffs (Feedback fuel system), drop eng_descr\n",
    "(autos\n",
    " [cols]\n",
    " .assign(cylinders=autos.cylinders.fillna(0).astype('int8[pyarrow]'),\n",
    "         displ=autos.displ.fillna(0).astype('float32[pyarrow]'),\n",
    "         drive=autos.drive.fillna('Other').astype('category'),\n",
    "         automatic=autos.trany.astype(str).str.contains('Auto'),\n",
    "         speeds=autos.trany.astype(str).str.extract(r'(\\d+)').fillna('20').astype('int8[pyarrow]'),\n",
    "         createdOn=pd.to_datetime(autos\n",
    "            .createdOn\n",
    "            .replace({' EDT': ' -0400', ' EST': ' -0500'}, regex=True),\n",
    "                      format='%a %b %d %H:%M:%S %z %Y', utc=True)\n",
    "            .dt.tz_convert('America/New_York'),\n",
    "         ffs=autos.eng_dscr.str.contains('FFS')\n",
    "        )\n",
    " .astype({'highway08': 'int8[pyarrow]', 'city08': 'int16[pyarrow]', 'comb08': 'int16[pyarrow]', 'fuelCost08': 'int16[pyarrow]', \n",
    "          'range': 'int16[pyarrow]', 'year': 'int16[pyarrow]', 'make': 'category'})\n",
    " #.drop(columns=['trany', 'eng_dscr'])\n",
    " .loc[:, ['city08', 'comb08', 'highway08', 'cylinders', 'displ', 'drive',\n",
    "       'fuelCost08', 'make', 'model', 'range', 'createdOn', 'year',\n",
    "       'automatic', 'speeds', 'ffs']]\n",
    " #.columns\n",
    " .memory_usage(deep=True)\n",
    " .sum()  # was 19,647,323\n",
    ")"
   ]
  },
  {
   "cell_type": "code",
   "execution_count": null,
   "metadata": {
    "lines_to_next_cell": 0,
    "pycharm": {
     "name": "#%%\n"
    },
    "scrolled": true
   },
   "outputs": [],
   "source": [
    "# a glorious function\n",
    "def tweak_autos(autos):\n",
    "    cols = ['city08', 'comb08', 'highway08', 'cylinders', 'displ', 'drive', 'eng_dscr', \n",
    "        'fuelCost08', 'make', 'model', 'trany', 'range', 'createdOn', 'year']\n",
    "    return (autos\n",
    "     [cols]\n",
    "     .assign(cylinders=autos.cylinders.fillna(0).astype('int8[pyarrow]'),\n",
    "             displ=autos.displ.fillna(0).astype('float32[pyarrow]'),\n",
    "             drive=autos.drive.fillna('Other').astype('category'),\n",
    "             automatic=autos.trany.astype(str).str.contains('Auto'),\n",
    "             speeds=autos.trany.astype(str).str.extract(r'(\\d+)').fillna('20').astype('int8[pyarrow]'),\n",
    "             createdOn=pd.to_datetime(autos\n",
    "                .createdOn\n",
    "                .replace({' EDT': ' -0400', ' EST': ' -0500'}, regex=True),\n",
    "                          format='%a %b %d %H:%M:%S %z %Y', utc=True)\n",
    "                .dt.tz_convert('America/New_York'),\n",
    "             ffs=autos.eng_dscr.str.contains('FFS')\n",
    "            )\n",
    "     .astype({'highway08': 'int8[pyarrow]', 'city08': 'int16[pyarrow]', 'comb08': 'int16[pyarrow]', 'fuelCost08': 'int16[pyarrow]',\n",
    "              'range': 'int16[pyarrow]',  'year': 'int16[pyarrow]', 'make': 'category'})\n",
    "     .loc[:, ['city08', 'comb08', 'highway08', 'cylinders', 'displ', 'drive',\n",
    "       'fuelCost08', 'make', 'model', 'range', 'createdOn', 'year',\n",
    "       'automatic', 'speeds', 'ffs']]\n",
    "    )\n",
    "\n",
    "tweak_autos(autos)"
   ]
  },
  {
   "cell_type": "markdown",
   "metadata": {
    "pycharm": {
     "name": "#%%\n"
    }
   },
   "source": [
    "## Date Exercise\n",
    "* List the attributes of the `.dt` attribute"
   ]
  },
  {
   "cell_type": "code",
   "execution_count": null,
   "metadata": {
    "lines_to_next_cell": 2,
    "pycharm": {
     "name": "#%%\n"
    }
   },
   "outputs": [],
   "source": []
  },
  {
   "cell_type": "code",
   "execution_count": null,
   "metadata": {
    "lines_to_next_cell": 2,
    "pycharm": {
     "name": "#%%\n"
    }
   },
   "outputs": [],
   "source": []
  },
  {
   "cell_type": "markdown",
   "metadata": {
    "pycharm": {
     "name": "#%% md\n"
    }
   },
   "source": [
    "## Chain\n",
    "\n",
    "Chaining is also called \"flow\" programming. Rather than making intermediate variables, just leverage the fact that most operations return a new object and work on that.\n",
    "\n",
    "The chain should read like a recipe of ordered steps.\n",
    "\n",
    "(BTW, this is actually what we did above.)\n",
    "\n",
    "<div class='alert alert-warning'>\n",
    "    Hint: Leverage <tt>.pipe</tt> if you can't find a way to chain 😉🐼💪\n",
    "</div>\n",
    "    \n",
    "\n",
    "\n"
   ]
  },
  {
   "cell_type": "code",
   "execution_count": null,
   "metadata": {
    "pycharm": {
     "name": "#%%\n"
    },
    "scrolled": true
   },
   "outputs": [],
   "source": [
    "# show debugging this\n",
    "\n",
    "def tweak_autos(autos):\n",
    "    cols = ['city08', 'comb08', 'highway08', 'cylinders', 'displ', 'drive', 'eng_dscr', \n",
    "        'fuelCost08', 'make', 'model', 'trany', 'range', 'createdOn', 'year']\n",
    "    return (autos\n",
    "     [cols]\n",
    "     .assign(cylinders=autos.cylinders.fillna(0).astype('int8[pyarrow]'),\n",
    "             displ=autos.displ.fillna(0).astype('float32[pyarrow]'),\n",
    "             drive=autos.drive.fillna('Other').astype('category'),\n",
    "             automatic=autos.trany.astype(str).str.contains('Auto'),\n",
    "             speeds=autos.trany.astype(str).str.extract(r'(\\d+)').fillna('20').astype('int8[pyarrow]'),\n",
    "             createdOn=pd.to_datetime(autos\n",
    "                .createdOn\n",
    "                .replace({' EDT': ' -0400', ' EST': ' -0500'}, regex=True),\n",
    "                          format='%a %b %d %H:%M:%S %z %Y', utc=True)\n",
    "                .dt.tz_convert('America/New_York'),\n",
    "             ffs=autos.eng_dscr.str.contains('FFS').fillna(False)\n",
    "            )\n",
    "     .astype({'highway08': 'int8[pyarrow]', 'city08': 'int16[pyarrow]', 'comb08': 'int16[pyarrow]', 'fuelCost08': 'int16[pyarrow]', \n",
    "              'range': 'int16[pyarrow]',  'year': 'int16[pyarrow]', 'make': 'category', 'model': 'category',\n",
    "              'automatic': 'category', })\n",
    "     .loc[:, ['city08', 'comb08', 'highway08', 'cylinders', 'displ', 'drive',\n",
    "       'fuelCost08', 'make', 'model', 'range', 'createdOn', 'year',\n",
    "       'automatic', 'speeds', 'ffs']]            \n",
    "    )\n",
    "\n",
    "tweak_autos(autos)#.dtypes"
   ]
  },
  {
   "cell_type": "code",
   "execution_count": null,
   "metadata": {},
   "outputs": [],
   "source": [
    "# 1.5 Megs!\n",
    "tweak_autos(autos).memory_usage(deep=True).sum()"
   ]
  },
  {
   "cell_type": "code",
   "execution_count": null,
   "metadata": {
    "pycharm": {
     "name": "#%%\n"
    }
   },
   "outputs": [],
   "source": [
    "# compare chain to this mess\n",
    "a1 = autos[cols]\n",
    "cyls = autos.cylinders.fillna(0)\n",
    "cyls2 = cyls.astype('int8[pyarrow]')\n",
    "a1['cylinders'] = cyls2\n",
    "displ = a1.displ\n",
    "displ2 = displ.fillna(0)\n",
    "displ3 = displ2.astype('float32[pyarrow]')\n",
    "a1.displ = displ3\n",
    "a1.drive = autos.drive.replace('', 'Other').astype('category')\n",
    "a1['automatic'] = autos.trany.astype(str).str.contains('Auto')           \n",
    "speed = autos.trany.astype(str).str.extract(r'(\\d+)')\n",
    "speedfill = speed.fillna('20')\n",
    "speedint = speedfill.astype('int8[pyarrow]')\n",
    "a1['speeds'] = speedint\n",
    "a1.createdOn=pd.to_datetime(autos.createdOn).dt.tz_localize('America/New_York')\n",
    "a1.ffs=autos.eng_dscr.str.contains('FFS')\n",
    "a1['highway08'] = autos.highway08.astype('int8[pyarrow]')\n",
    "a1['city08'] = autos.city08.astype('int8[pyarrow]')\n",
    "a1['comb08'] = autos.comb08.astype('int16[pyarrow]')\n",
    "a1['fuelCost08'] = autos.fuelCost08.astype('int16[pyarrow]')\n",
    "a1['range'] = autos.range.astype('int16[pyarrow]')\n",
    "a1['make'] = autos.make.astype('category')\n",
    "a3 = a1.drop(columns=['trany', 'eng_dscr'])"
   ]
  },
  {
   "cell_type": "code",
   "execution_count": null,
   "metadata": {
    "pycharm": {
     "name": "#%%\n"
    }
   },
   "outputs": [],
   "source": [
    "###### easy to debug\n",
    "#  - assign to var (df3)\n",
    "#  - comment out\n",
    "#  - pipe to display\n",
    "\n",
    "\n",
    "from IPython.display import display\n",
    "\n",
    "def get_var(df, var_name):\n",
    "    globals()[var_name] = df\n",
    "    return df\n",
    "\n",
    "def tweak_autos(autos):\n",
    "    return (autos\n",
    "    .pipe(lambda df: print(df.shape) or df)                                    \n",
    "     [cols]\n",
    "    .pipe(lambda df: print(df.shape) or df)                        \n",
    "      # create var                        \n",
    "     .pipe(get_var, 'df3')\n",
    "     .assign(cylinders=autos.cylinders.fillna(0).astype('int8[pyarrow]'),\n",
    "             displ=autos.displ.fillna(0).astype('float32[pyarrow]'),\n",
    "             drive=autos.drive.fillna('Other').astype('category'),\n",
    "             automatic=autos.trany.astype(str).str.contains('Auto'),\n",
    "             speeds=autos.trany.astype(str).str.extract(r'(\\d+)').fillna('20').astype('int8[pyarrow]'),        \n",
    "             createdOn=pd.to_datetime(autos\n",
    "                .createdOn\n",
    "                .replace({' EDT': ' -0400', ' EST': ' -0500'}, regex=True),\n",
    "                          format='%a %b %d %H:%M:%S %z %Y', utc=True)\n",
    "                .dt.tz_convert('America/New_York'),\n",
    "             ffs=autos.eng_dscr.str.contains('FFS')\n",
    "            )\n",
    "     # debug pipe            \n",
    "    .pipe(lambda df: print(df.shape) or df)            \n",
    "     .pipe(lambda df: display(df) or df)\n",
    "     .astype({'highway08': 'int8[pyarrow]', 'city08': 'int16[pyarrow]', 'comb08': 'int16[pyarrow]', 'fuelCost08': 'int16[pyarrow]', \n",
    "              'range': 'int16[pyarrow]', 'year': 'int16[pyarrow]', 'make': 'category'})\n",
    "     .loc[:, ['city08', 'comb08', 'highway08', 'cylinders', 'displ', 'drive',\n",
    "       'fuelCost08', 'make', 'model', 'range', 'createdOn', 'year',\n",
    "       'automatic', 'speeds', 'ffs']]            \n",
    "    )\n",
    "\n",
    "tweak_autos(autos)"
   ]
  },
  {
   "cell_type": "code",
   "execution_count": null,
   "metadata": {
    "pycharm": {
     "name": "#%%\n"
    },
    "scrolled": true
   },
   "outputs": [],
   "source": [
    "# inspect intermediate data frame\n",
    "df3"
   ]
  },
  {
   "cell_type": "markdown",
   "metadata": {},
   "source": [
    "## Chain Exercise\n",
    "* Make a chain to \n",
    "  * Filter F150 models\n",
    "  * With *highway08* greater than 20\n",
    "  * Correlate the values\n",
    "  * Select the *city08*, *year*, *cylinders*, *displ* columns"
   ]
  },
  {
   "cell_type": "code",
   "execution_count": null,
   "metadata": {},
   "outputs": [],
   "source": []
  },
  {
   "cell_type": "code",
   "execution_count": null,
   "metadata": {},
   "outputs": [],
   "source": []
  },
  {
   "cell_type": "markdown",
   "metadata": {
    "pycharm": {
     "name": "#%%\n"
    }
   },
   "source": [
    "## More Chain\n",
    "\n",
    "Chaining w/ Functions enables:\n",
    "\n",
    "* Testing\n",
    "* Deployment\n",
    "* Reuse"
   ]
  },
  {
   "cell_type": "code",
   "execution_count": null,
   "metadata": {
    "lines_to_next_cell": 2,
    "pycharm": {
     "name": "#%%\n"
    }
   },
   "outputs": [],
   "source": []
  },
  {
   "cell_type": "markdown",
   "metadata": {
    "pycharm": {
     "name": "#%% md\n"
    }
   },
   "source": [
    "## Don't Mutate\n",
    "\n",
    "> \"you are missing the point, inplace rarely actually does something inplace, you are thinking that you are saving memory but you are not.\"\n",
    ">\n",
    "> **jreback** - Pandas core dev\n",
    "\n",
    "\n",
    "\n",
    "https://github.com/pandas-dev/pandas/issues/16529#issuecomment-676518136\n",
    "\n",
    "* In general, no performance benefits\n",
    "* Prohibits chaining\n",
    "* ``SettingWithCopyWarning`` fun\n"
   ]
  },
  {
   "cell_type": "code",
   "execution_count": null,
   "metadata": {
    "lines_to_next_cell": 2,
    "pycharm": {
     "name": "#%%\n"
    }
   },
   "outputs": [],
   "source": []
  },
  {
   "cell_type": "code",
   "execution_count": null,
   "metadata": {
    "lines_to_next_cell": 2,
    "pycharm": {
     "name": "#%%\n"
    }
   },
   "outputs": [],
   "source": []
  },
  {
   "cell_type": "code",
   "execution_count": null,
   "metadata": {
    "lines_to_next_cell": 2,
    "pycharm": {
     "name": "#%%\n"
    }
   },
   "outputs": [],
   "source": []
  },
  {
   "cell_type": "markdown",
   "metadata": {
    "pycharm": {
     "name": "#%% md\n"
    }
   },
   "source": [
    "## Don't Apply (if you can)"
   ]
  },
  {
   "cell_type": "code",
   "execution_count": null,
   "metadata": {
    "pycharm": {
     "name": "#%%\n"
    }
   },
   "outputs": [],
   "source": [
    "def tweak_autos(autos):\n",
    "    return (autos\n",
    "     [cols]\n",
    "     .assign(cylinders=autos.cylinders.fillna(0).astype('int8[pyarrow]'),\n",
    "             displ=autos.displ.fillna(0).astype('float32[pyarrow]'),\n",
    "             drive=autos.drive.fillna('Other').astype('category'),\n",
    "             automatic=autos.trany.astype(str).str.contains('Auto'),\n",
    "             speeds=autos.trany.astype(str).str.extract(r'(\\d+)').fillna('20').astype('int8[pyarrow]'),\n",
    "             createdOn=pd.to_datetime(autos\n",
    "                .createdOn\n",
    "                .replace({' EDT': ' -0400', ' EST': ' -0500'}, regex=True),\n",
    "                          format='%a %b %d %H:%M:%S %z %Y', utc=True)\n",
    "                .dt.tz_convert('America/New_York'),\n",
    "             ffs=autos.eng_dscr.str.contains('FFS')\n",
    "            )\n",
    "     .astype({'highway08': 'int8[pyarrow]', 'city08': 'int16[pyarrow]', 'comb08': 'int16[pyarrow]', 'fuelCost08': \n",
    "              \n",
    "              'int16[pyarrow]',\n",
    "              'range': 'int16[pyarrow]',  'year': 'int16[pyarrow]', 'make': 'category'})\n",
    "     .loc[:, ['city08', 'comb08', 'highway08', 'cylinders', 'displ', 'drive',\n",
    "       'fuelCost08', 'make', 'model', 'range', 'createdOn', 'year',\n",
    "       'automatic', 'speeds', 'ffs']]            \n",
    "    )\n",
    "\n",
    "\n",
    "autos2 = tweak_autos(autos)"
   ]
  },
  {
   "cell_type": "code",
   "execution_count": null,
   "metadata": {
    "pycharm": {
     "name": "#%%\n"
    }
   },
   "outputs": [],
   "source": [
    "# try to me more Euro-centric\n",
    "def to_lper100km(val):\n",
    "    return 235.215 / val\n",
    "autos2.city08.apply(to_lper100km)"
   ]
  },
  {
   "cell_type": "code",
   "execution_count": null,
   "metadata": {
    "pycharm": {
     "name": "#%%\n"
    },
    "scrolled": true
   },
   "outputs": [],
   "source": [
    "# this gives the sames results\n",
    "235.215 / autos2.city08 "
   ]
  },
  {
   "cell_type": "code",
   "execution_count": null,
   "metadata": {
    "pycharm": {
     "name": "#%%\n"
    }
   },
   "outputs": [],
   "source": [
    "%%timeit\n",
    "autos2.city08.apply(to_lper100km)"
   ]
  },
  {
   "cell_type": "code",
   "execution_count": null,
   "metadata": {
    "pycharm": {
     "name": "#%%\n"
    }
   },
   "outputs": [],
   "source": [
    "%%timeit\n",
    "235.215 / autos2.city08 "
   ]
  },
  {
   "cell_type": "code",
   "execution_count": null,
   "metadata": {
    "pycharm": {
     "name": "#%%\n"
    }
   },
   "outputs": [],
   "source": [
    "# ~50x slower!\n",
    "6_220 / 110"
   ]
  },
  {
   "cell_type": "code",
   "execution_count": null,
   "metadata": {
    "pycharm": {
     "name": "#%%\n"
    }
   },
   "outputs": [],
   "source": [
    "def is_american(val):\n",
    "    return val in {'Chevrolet', 'Ford', 'Dodge', 'GMC', 'Tesla'}"
   ]
  },
  {
   "cell_type": "code",
   "execution_count": null,
   "metadata": {
    "pycharm": {
     "name": "#%%\n"
    }
   },
   "outputs": [],
   "source": [
    "%%timeit\n",
    "autos2.make.apply(is_american)"
   ]
  },
  {
   "cell_type": "code",
   "execution_count": null,
   "metadata": {
    "pycharm": {
     "name": "#%%\n"
    }
   },
   "outputs": [],
   "source": [
    "%%timeit\n",
    "autos2.make.isin({'Chevrolet', 'Ford', 'Dodge', 'GMC', 'Tesla'})"
   ]
  },
  {
   "cell_type": "code",
   "execution_count": null,
   "metadata": {
    "pycharm": {
     "name": "#%%\n"
    }
   },
   "outputs": [],
   "source": [
    "autos3 = autos2.assign(make=autos2.make.astype(str))"
   ]
  },
  {
   "cell_type": "code",
   "execution_count": null,
   "metadata": {
    "pycharm": {
     "name": "#%%\n"
    }
   },
   "outputs": [],
   "source": [
    "%%timeit\n",
    "# converted to string\n",
    "autos3.make.isin({'Chevrolet', 'Ford', 'Dodge', 'GMC', 'Tesla'})"
   ]
  },
  {
   "cell_type": "code",
   "execution_count": null,
   "metadata": {
    "pycharm": {
     "name": "#%%\n"
    }
   },
   "outputs": [],
   "source": [
    "%%timeit\n",
    "autos3.make.apply(is_american)"
   ]
  },
  {
   "cell_type": "code",
   "execution_count": null,
   "metadata": {
    "pycharm": {
     "name": "#%%\n"
    }
   },
   "outputs": [],
   "source": [
    "def country(val):\n",
    "    if val in {'Chevrolet', 'Ford', 'Dodge', 'GMC', 'Tesla'}:\n",
    "        return 'US'\n",
    "    return 'Other'"
   ]
  },
  {
   "cell_type": "code",
   "execution_count": null,
   "metadata": {
    "pycharm": {
     "name": "#%%\n"
    },
    "scrolled": true
   },
   "outputs": [],
   "source": [
    "%%timeit\n",
    "# Might be ok for strings, since they are not vectorized...\n",
    "(autos2\n",
    " .assign(country=autos2.make.apply(country))\n",
    ")"
   ]
  },
  {
   "cell_type": "code",
   "execution_count": null,
   "metadata": {
    "pycharm": {
     "name": "#%%\n"
    }
   },
   "outputs": [],
   "source": [
    "%%timeit\n",
    "values = {'Chevrolet', 'Ford', 'Dodge', 'GMC', 'Tesla'}\n",
    "(autos2\n",
    " .assign(country='US')\n",
    " .assign(country=lambda df_:df_.country.where(df_.make.isin(values), 'Other'))\n",
    ")"
   ]
  },
  {
   "cell_type": "code",
   "execution_count": null,
   "metadata": {
    "pycharm": {
     "name": "#%%\n"
    }
   },
   "outputs": [],
   "source": [
    "%%timeit\n",
    "\n",
    "(autos2\n",
    " .assign(country=np.select([autos2.make.isin({'Chevrolet', 'Ford', 'Dodge', 'GMC', 'Tesla'})], \n",
    "                           ['US'], 'Other'))\n",
    ")"
   ]
  },
  {
   "cell_type": "code",
   "execution_count": null,
   "metadata": {
    "lines_to_next_cell": 0,
    "pycharm": {
     "name": "#%%\n"
    }
   },
   "outputs": [],
   "source": [
    "%%timeit\n",
    "\n",
    "(autos2\n",
    " .assign(country=np.where(autos2.make.isin({'Chevrolet', 'Ford', 'Dodge', 'GMC', 'Tesla'}), \n",
    "                          'US', 'Other'))\n",
    ")"
   ]
  },
  {
   "cell_type": "markdown",
   "metadata": {},
   "source": [
    "## Apply Exercise\n",
    "* Create a column, *mycomb*, that is the mean of *city08* and *highway08*"
   ]
  },
  {
   "cell_type": "code",
   "execution_count": null,
   "metadata": {
    "lines_to_next_cell": 2,
    "pycharm": {
     "name": "#%%\n"
    }
   },
   "outputs": [],
   "source": []
  },
  {
   "cell_type": "code",
   "execution_count": null,
   "metadata": {
    "lines_to_next_cell": 2,
    "pycharm": {
     "name": "#%%\n"
    }
   },
   "outputs": [],
   "source": []
  },
  {
   "cell_type": "code",
   "execution_count": null,
   "metadata": {
    "lines_to_next_cell": 2,
    "pycharm": {
     "name": "#%%\n"
    }
   },
   "outputs": [],
   "source": []
  },
  {
   "cell_type": "code",
   "execution_count": null,
   "metadata": {
    "lines_to_next_cell": 2,
    "pycharm": {
     "name": "#%%\n"
    }
   },
   "outputs": [],
   "source": []
  },
  {
   "cell_type": "code",
   "execution_count": null,
   "metadata": {
    "lines_to_next_cell": 2,
    "pycharm": {
     "name": "#%%\n"
    }
   },
   "outputs": [],
   "source": []
  },
  {
   "cell_type": "code",
   "execution_count": null,
   "metadata": {
    "lines_to_next_cell": 2,
    "pycharm": {
     "name": "#%%\n"
    }
   },
   "outputs": [],
   "source": []
  },
  {
   "cell_type": "code",
   "execution_count": null,
   "metadata": {
    "lines_to_next_cell": 2,
    "pycharm": {
     "name": "#%%\n"
    }
   },
   "outputs": [],
   "source": []
  },
  {
   "cell_type": "code",
   "execution_count": null,
   "metadata": {
    "lines_to_next_cell": 2,
    "pycharm": {
     "name": "#%%\n"
    }
   },
   "outputs": [],
   "source": []
  },
  {
   "cell_type": "code",
   "execution_count": null,
   "metadata": {
    "lines_to_next_cell": 2,
    "pycharm": {
     "name": "#%%\n"
    }
   },
   "outputs": [],
   "source": []
  },
  {
   "cell_type": "code",
   "execution_count": null,
   "metadata": {
    "lines_to_next_cell": 2,
    "pycharm": {
     "name": "#%%\n"
    }
   },
   "outputs": [],
   "source": []
  },
  {
   "cell_type": "code",
   "execution_count": null,
   "metadata": {
    "lines_to_next_cell": 2,
    "pycharm": {
     "name": "#%%\n"
    }
   },
   "outputs": [],
   "source": []
  },
  {
   "cell_type": "code",
   "execution_count": null,
   "metadata": {
    "lines_to_next_cell": 2,
    "pycharm": {
     "name": "#%%\n"
    }
   },
   "outputs": [],
   "source": []
  },
  {
   "cell_type": "code",
   "execution_count": null,
   "metadata": {
    "lines_to_next_cell": 2,
    "pycharm": {
     "name": "#%%\n"
    }
   },
   "outputs": [],
   "source": []
  },
  {
   "cell_type": "code",
   "execution_count": null,
   "metadata": {
    "lines_to_next_cell": 2,
    "pycharm": {
     "name": "#%%\n"
    }
   },
   "outputs": [],
   "source": []
  },
  {
   "cell_type": "code",
   "execution_count": null,
   "metadata": {
    "lines_to_next_cell": 2,
    "pycharm": {
     "name": "#%%\n"
    }
   },
   "outputs": [],
   "source": []
  },
  {
   "cell_type": "code",
   "execution_count": null,
   "metadata": {
    "lines_to_next_cell": 2,
    "pycharm": {
     "name": "#%%\n"
    }
   },
   "outputs": [],
   "source": []
  },
  {
   "cell_type": "code",
   "execution_count": null,
   "metadata": {
    "lines_to_next_cell": 2,
    "pycharm": {
     "name": "#%%\n"
    }
   },
   "outputs": [],
   "source": []
  },
  {
   "cell_type": "code",
   "execution_count": null,
   "metadata": {
    "lines_to_next_cell": 2,
    "pycharm": {
     "name": "#%%\n"
    }
   },
   "outputs": [],
   "source": []
  },
  {
   "cell_type": "markdown",
   "metadata": {
    "pycharm": {
     "name": "#%% md\n"
    }
   },
   "source": [
    "## Master Aggregation\n",
    "\n",
    "Let's compare mileage by country by year...🤔"
   ]
  },
  {
   "cell_type": "code",
   "execution_count": null,
   "metadata": {
    "pycharm": {
     "name": "#%%\n"
    }
   },
   "outputs": [],
   "source": [
    "(autos2\n",
    "   .groupby('year')\n",
    "   .mean()\n",
    ")"
   ]
  },
  {
   "cell_type": "code",
   "execution_count": null,
   "metadata": {
    "pycharm": {
     "name": "#%%\n"
    }
   },
   "outputs": [],
   "source": [
    "(autos2\n",
    "   .groupby('year')\n",
    "   .mean(numeric_only=True)\n",
    ")"
   ]
  },
  {
   "cell_type": "code",
   "execution_count": null,
   "metadata": {
    "pycharm": {
     "name": "#%%\n"
    },
    "scrolled": true
   },
   "outputs": [],
   "source": [
    "# watch order of column filtering/aggregation\n",
    "(autos2\n",
    "   .groupby('year')\n",
    "   [['comb08', 'speeds']]\n",
    "   .mean()\n",
    ")"
   ]
  },
  {
   "cell_type": "code",
   "execution_count": null,
   "metadata": {
    "pycharm": {
     "name": "#%%\n"
    }
   },
   "outputs": [],
   "source": [
    "import matplotlib.pyplot as plt\n",
    "import seaborn as sns\n",
    "plt.style.use('pandas1book') \n",
    "sns.set_context('talk')\n",
    "plt.plot(range(10))"
   ]
  },
  {
   "cell_type": "code",
   "execution_count": null,
   "metadata": {
    "pycharm": {
     "name": "#%%\n"
    },
    "scrolled": true
   },
   "outputs": [],
   "source": [
    "(autos2\n",
    "   .groupby('year')\n",
    "   [['comb08', 'speeds']]\n",
    "   .mean()\n",
    "   .plot()\n",
    ")"
   ]
  },
  {
   "cell_type": "code",
   "execution_count": null,
   "metadata": {
    "pycharm": {
     "name": "#%%\n"
    }
   },
   "outputs": [],
   "source": [
    "(autos2\n",
    "   .groupby('year')\n",
    "   [['comb08', 'speeds', 'highway08']]\n",
    "   #.mean()\n",
    "   #.median()\n",
    "   .quantile(.3)\n",
    "   #.std()\n",
    "   #.var()\n",
    "   .plot()\n",
    ")"
   ]
  },
  {
   "cell_type": "code",
   "execution_count": null,
   "metadata": {
    "pycharm": {
     "name": "#%%\n"
    },
    "scrolled": true
   },
   "outputs": [],
   "source": [
    "# add country\n",
    "(autos2\n",
    " .assign(country=autos2.make.apply(country))\n",
    " .groupby(['year', 'country'])\n",
    " [['comb08', 'speeds']]\n",
    " .mean()\n",
    ")"
   ]
  },
  {
   "cell_type": "code",
   "execution_count": null,
   "metadata": {
    "pycharm": {
     "name": "#%%\n"
    },
    "scrolled": true
   },
   "outputs": [],
   "source": [
    "# can go deeper and apply multiple aggregates\n",
    "def second_to_last(ser):\n",
    "    return ser.iloc[-2]\n",
    "\n",
    "(autos2\n",
    " .assign(country=autos2.make.apply(country))\n",
    " .groupby(['year', 'country'])\n",
    " [['comb08', 'speeds']]\n",
    " .agg(['min', 'mean', second_to_last])\n",
    ")"
   ]
  },
  {
   "cell_type": "code",
   "execution_count": null,
   "metadata": {
    "pycharm": {
     "name": "#%%\n"
    }
   },
   "outputs": [],
   "source": [
    "# back to simpler example, adding plots\n",
    "(autos2\n",
    " .assign(country=autos2.make.apply(country))\n",
    " .groupby(['year', 'country'])\n",
    " [['comb08', 'speeds']]\n",
    " .mean()\n",
    " #.plot()\n",
    ")"
   ]
  },
  {
   "cell_type": "code",
   "execution_count": null,
   "metadata": {
    "pycharm": {
     "name": "#%%\n"
    },
    "scrolled": true
   },
   "outputs": [],
   "source": [
    "(autos2\n",
    " .assign(country=autos2.make.apply(country))\n",
    " .groupby(['year', 'country'])\n",
    " [['comb08', 'speeds']]\n",
    " .mean()\n",
    " .unstack()\n",
    ")"
   ]
  },
  {
   "cell_type": "code",
   "execution_count": null,
   "metadata": {
    "pycharm": {
     "name": "#%%\n"
    },
    "scrolled": true
   },
   "outputs": [],
   "source": [
    "(autos2\n",
    " .assign(country=autos2.make.apply(country))\n",
    " .groupby(['year', 'country'])\n",
    " [['city08', 'speeds']]\n",
    " .mean()\n",
    " #.std()\n",
    " .unstack()\n",
    " .city08\n",
    " .plot()\n",
    " .legend(bbox_to_anchor=(1,1))\n",
    ")"
   ]
  },
  {
   "cell_type": "code",
   "execution_count": null,
   "metadata": {
    "pycharm": {
     "name": "#%%\n"
    },
    "scrolled": true
   },
   "outputs": [],
   "source": [
    "# smoothe it out a bit w/ rolling\n",
    "(autos2\n",
    " .assign(country=autos2.make.apply(country))\n",
    " .groupby(['year', 'country'])\n",
    " [['city08', 'speeds']]\n",
    " .mean()\n",
    " .unstack()\n",
    " .city08\n",
    " .rolling(3)\n",
    " .mean()\n",
    " .plot()\n",
    " .legend(bbox_to_anchor=(1,1))\n",
    ")"
   ]
  },
  {
   "cell_type": "code",
   "execution_count": null,
   "metadata": {
    "scrolled": true
   },
   "outputs": [],
   "source": [
    "# One more example of cleaning up with Matplotlib\n",
    "makes = ['Tesla', 'Honda', 'Toyota', 'Ford']\n",
    "(autos\n",
    " .query('make.isin(@makes)')\n",
    " ##.loc[autos.make.isin(makes)]\n",
    " .groupby(['year', 'make'])\n",
    " .city08\n",
    " .mean()\n",
    " .unstack()\n",
    " .loc[:, makes]\n",
    " .plot()\n",
    ")"
   ]
  },
  {
   "cell_type": "markdown",
   "metadata": {},
   "source": [
    "## Aggregation Exercise\n",
    "* Find the median *city08* by *make*\n",
    "* Plot the above\n",
    "* Filter out \"Toyota\", \"Honda\", \"Chevrolet\", and \"Porsche\" and find the median *city08* by *make*\n",
    "* Plot the above\n",
    "* Find the max, mean, and min *city08* by decade"
   ]
  },
  {
   "cell_type": "code",
   "execution_count": null,
   "metadata": {},
   "outputs": [],
   "source": [
    "(autos\n",
    " .assign(decade=autos.year//10)\n",
    " .groupby('decade')\n",
    " .city08\n",
    " .agg(['min', 'mean', 'max'])\n",
    ".plot()\n",
    ")"
   ]
  },
  {
   "cell_type": "code",
   "execution_count": null,
   "metadata": {},
   "outputs": [],
   "source": []
  },
  {
   "cell_type": "markdown",
   "metadata": {},
   "source": [
    "## Example of Fancy Plot"
   ]
  },
  {
   "cell_type": "code",
   "execution_count": null,
   "metadata": {
    "lines_to_next_cell": 2,
    "pycharm": {
     "name": "#%%\n"
    }
   },
   "outputs": [],
   "source": [
    "sns.reset_defaults()\n",
    "makes = ['Tesla', 'Honda', 'Toyota', 'Ford']\n",
    "colors = ['#e3120b', '#76725e', '#b3b09e', '#d2d0c4']\n",
    "fig, ax = plt.subplots(figsize=(6,4), dpi=100)\n",
    "ax = (autos\n",
    " #.query('make.isin(@makes)')\n",
    " .loc[autos.make.isin(makes)]\n",
    " .groupby(['year', 'make'])\n",
    " .city08\n",
    " .mean()\n",
    " .unstack()\n",
    " .loc[:, makes]\n",
    " .plot(color=colors, legend=False, linewidth=3, ax=ax)\n",
    ")\n",
    "plt.rcParams[\"font.family\"] = \"Roboto\"\n",
    "plt.grid(axis='y')\n",
    "plt.suptitle('Annual City Mileage', ha='left', x=.12)\n",
    "[ax.spines[side].set_visible(False) for side in ['top', 'left', 'right']]\n",
    "ax.tick_params(left=False) # hide ticks\n",
    "ax.set_xlabel('') # clear x label\n",
    "ax.set_xticks(minor=True, ticks=range(1984,2020))\n",
    "# set positions and labels for major ticks\n",
    "ax.set_xticks(ticks=range(1985,2019,5))\n",
    "ax.set_xticklabels(['1985', '90', '95', '2000', '05', '10', '2015'])\n",
    "ax.set_yticks(ticks=range(0,121,20))\n",
    "ax.set_yticklabels([]) # hide left hand side\n",
    "for label in range(20,121,20): # my own vertically shifted y-labels\n",
    "    ax.text(2022, label+3, f'{label}', color=colors[-3], ha='right')\n",
    "for label, pos, color in zip(makes, [(2015, 110), # label makes\n",
    "                              (2010, 33),\n",
    "                              (1986, 20.5),\n",
    "                              (1995, 10),\n",
    "                             ], colors):\n",
    "    ax.text(*pos, label, color=color, ha='left')\n",
    "_ = ax.text(1982, -20, 'Source: fueleconomy.gov', ha='left')"
   ]
  },
  {
   "cell_type": "code",
   "execution_count": null,
   "metadata": {
    "pycharm": {
     "name": "#%%\n"
    }
   },
   "outputs": [],
   "source": [
    "fig"
   ]
  },
  {
   "cell_type": "code",
   "execution_count": null,
   "metadata": {
    "lines_to_next_cell": 0,
    "pycharm": {
     "name": "#%%\n"
    },
    "scrolled": true
   },
   "outputs": [],
   "source": [
    "# a glorious function\n",
    "def tweak_autos(autos):\n",
    "    cols = ['city08', 'comb08', 'highway08', 'cylinders', 'displ', 'drive', 'eng_dscr', \n",
    "        'fuelCost08', 'make', 'model', 'trany', 'range', 'createdOn', 'year']\n",
    "    return (autos\n",
    "     [cols]\n",
    "     .assign(cylinders=autos.cylinders.fillna(0).astype('int8[pyarrow]'),\n",
    "             displ=autos.displ.fillna(0).astype('float32[pyarrow]'),\n",
    "             drive=autos.drive.fillna('Other').astype('category'),\n",
    "             automatic=autos.trany.astype(str).str.contains('Auto'),\n",
    "             speeds=autos.trany.astype(str).str.extract(r'(\\d+)').fillna('20').astype('int8[pyarrow]'),\n",
    "             createdOn=pd.to_datetime(autos\n",
    "                .createdOn\n",
    "                .replace({' EDT': ' -0400', ' EST': ' -0500'}, regex=True),\n",
    "                          format='%a %b %d %H:%M:%S %z %Y', utc=True)\n",
    "                .dt.tz_convert('America/New_York'),\n",
    "             ffs=autos.eng_dscr.str.contains('FFS')\n",
    "            )\n",
    "     .astype({'highway08': 'int8[pyarrow]', 'city08': 'int16[pyarrow]', 'comb08': 'int16[pyarrow]', 'fuelCost08': 'int16[pyarrow]',\n",
    "              'range': 'int16[pyarrow]',  'year': 'int16[pyarrow]', 'make': 'category'})\n",
    "     .loc[:, ['city08', 'comb08', 'highway08', 'cylinders', 'displ', 'drive',\n",
    "       'fuelCost08', 'make', 'model', 'range', 'createdOn', 'year',\n",
    "       'automatic', 'speeds', 'ffs']]\n",
    "    )\n",
    "\n",
    "tweak_autos(autos)"
   ]
  },
  {
   "cell_type": "code",
   "execution_count": null,
   "metadata": {
    "lines_to_next_cell": 2,
    "pycharm": {
     "name": "#%%\n"
    }
   },
   "outputs": [],
   "source": []
  },
  {
   "cell_type": "code",
   "execution_count": null,
   "metadata": {
    "lines_to_next_cell": 2,
    "pycharm": {
     "name": "#%%\n"
    }
   },
   "outputs": [],
   "source": []
  },
  {
   "cell_type": "code",
   "execution_count": null,
   "metadata": {
    "lines_to_next_cell": 2,
    "pycharm": {
     "name": "#%%\n"
    }
   },
   "outputs": [],
   "source": []
  },
  {
   "cell_type": "code",
   "execution_count": null,
   "metadata": {
    "lines_to_next_cell": 2,
    "pycharm": {
     "name": "#%%\n"
    }
   },
   "outputs": [],
   "source": []
  },
  {
   "cell_type": "code",
   "execution_count": null,
   "metadata": {
    "lines_to_next_cell": 2,
    "pycharm": {
     "name": "#%%\n"
    }
   },
   "outputs": [],
   "source": []
  },
  {
   "cell_type": "code",
   "execution_count": null,
   "metadata": {
    "lines_to_next_cell": 2,
    "pycharm": {
     "name": "#%%\n"
    }
   },
   "outputs": [],
   "source": []
  },
  {
   "cell_type": "code",
   "execution_count": null,
   "metadata": {
    "lines_to_next_cell": 2,
    "pycharm": {
     "name": "#%%\n"
    }
   },
   "outputs": [],
   "source": []
  },
  {
   "cell_type": "code",
   "execution_count": null,
   "metadata": {
    "lines_to_next_cell": 2,
    "pycharm": {
     "name": "#%%\n"
    }
   },
   "outputs": [],
   "source": []
  },
  {
   "cell_type": "markdown",
   "metadata": {
    "pycharm": {
     "name": "#%% md\n"
    }
   },
   "source": [
    "## Summary\n",
    "\n",
    "* Correct types save space and enable convenient math, string, and date functionality\n",
    "* Chaining operations will:\n",
    "   * Make code readable\n",
    "   * Remove bugs\n",
    "   * Easier to debug\n",
    "* Don't mutate (there's no point). Embrace chaining.\n",
    "* ``.apply`` is slow for math\n",
    "* Aggregations are powerful. Play with them until they make sense\n",
    "* Upcoming courses\n",
    "* https://store.metasnake.com\n",
    "\n",
    "Follow me on Twitter ``@__mharrison__``\n",
    "\n",
    "Book giveaway!\n"
   ]
  },
  {
   "cell_type": "code",
   "execution_count": null,
   "metadata": {
    "pycharm": {
     "name": "#%%\n"
    }
   },
   "outputs": [],
   "source": [
    "import random\n",
    "random.randrange(1,11)"
   ]
  },
  {
   "cell_type": "code",
   "execution_count": null,
   "metadata": {
    "lines_to_next_cell": 2,
    "pycharm": {
     "name": "#%%\n"
    }
   },
   "outputs": [],
   "source": []
  },
  {
   "cell_type": "code",
   "execution_count": null,
   "metadata": {
    "lines_to_next_cell": 2,
    "pycharm": {
     "name": "#%%\n"
    }
   },
   "outputs": [],
   "source": []
  },
  {
   "cell_type": "code",
   "execution_count": null,
   "metadata": {
    "lines_to_next_cell": 2,
    "pycharm": {
     "name": "#%%\n"
    }
   },
   "outputs": [],
   "source": []
  },
  {
   "cell_type": "code",
   "execution_count": null,
   "metadata": {
    "pycharm": {
     "name": "#%%\n"
    }
   },
   "outputs": [],
   "source": []
  }
 ],
 "metadata": {
  "jupytext": {
   "encoding": "# -*- coding: utf-8 -*-",
   "formats": "ipynb,py:light"
  },
  "kernelspec": {
   "display_name": "Python 3 (ipykernel)",
   "language": "python",
   "name": "python3"
  },
  "language_info": {
   "codemirror_mode": {
    "name": "ipython",
    "version": 3
   },
   "file_extension": ".py",
   "mimetype": "text/x-python",
   "name": "python",
   "nbconvert_exporter": "python",
   "pygments_lexer": "ipython3",
   "version": "3.10.8"
  }
 },
 "nbformat": 4,
 "nbformat_minor": 4
}
